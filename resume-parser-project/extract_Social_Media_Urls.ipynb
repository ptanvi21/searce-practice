{
 "cells": [
  {
   "cell_type": "code",
   "execution_count": 2,
   "id": "1eb56af7",
   "metadata": {},
   "outputs": [
    {
     "name": "stdout",
     "output_type": "stream",
     "text": [
      "Collecting spacy\n",
      "  Downloading spacy-3.2.1-cp39-cp39-macosx_10_9_x86_64.whl (6.3 MB)\n",
      "\u001b[K     |████████████████████████████████| 6.3 MB 4.2 MB/s eta 0:00:01\n",
      "\u001b[?25hCollecting cymem<2.1.0,>=2.0.2\n",
      "  Downloading cymem-2.0.6-cp39-cp39-macosx_10_9_x86_64.whl (32 kB)\n",
      "Collecting catalogue<2.1.0,>=2.0.6\n",
      "  Using cached catalogue-2.0.6-py3-none-any.whl (17 kB)\n",
      "Collecting typer<0.5.0,>=0.3.0\n",
      "  Using cached typer-0.4.0-py3-none-any.whl (27 kB)\n",
      "Collecting murmurhash<1.1.0,>=0.28.0\n",
      "  Downloading murmurhash-1.0.6-cp39-cp39-macosx_10_9_x86_64.whl (18 kB)\n",
      "Requirement already satisfied: tqdm<5.0.0,>=4.38.0 in /Users/punamtanvikshatriya/opt/anaconda3/lib/python3.9/site-packages (from spacy) (4.62.3)\n",
      "Collecting pathy>=0.3.5\n",
      "  Using cached pathy-0.6.1-py3-none-any.whl (42 kB)\n",
      "Requirement already satisfied: numpy>=1.15.0 in /Users/punamtanvikshatriya/opt/anaconda3/lib/python3.9/site-packages (from spacy) (1.20.3)\n",
      "Collecting spacy-legacy<3.1.0,>=3.0.8\n",
      "  Using cached spacy_legacy-3.0.8-py2.py3-none-any.whl (14 kB)\n",
      "Collecting srsly<3.0.0,>=2.4.1\n",
      "  Downloading srsly-2.4.2-cp39-cp39-macosx_10_9_x86_64.whl (452 kB)\n",
      "\u001b[K     |████████████████████████████████| 452 kB 4.2 MB/s eta 0:00:01\n",
      "\u001b[?25hRequirement already satisfied: jinja2 in /Users/punamtanvikshatriya/opt/anaconda3/lib/python3.9/site-packages (from spacy) (2.11.3)\n",
      "Collecting langcodes<4.0.0,>=3.2.0\n",
      "  Using cached langcodes-3.3.0-py3-none-any.whl (181 kB)\n",
      "Collecting wasabi<1.1.0,>=0.8.1\n",
      "  Using cached wasabi-0.9.0-py3-none-any.whl (25 kB)\n",
      "Requirement already satisfied: setuptools in /Users/punamtanvikshatriya/opt/anaconda3/lib/python3.9/site-packages (from spacy) (58.0.4)\n",
      "Collecting thinc<8.1.0,>=8.0.12\n",
      "  Downloading thinc-8.0.13-cp39-cp39-macosx_10_9_x86_64.whl (615 kB)\n",
      "\u001b[K     |████████████████████████████████| 615 kB 279 kB/s eta 0:00:01\n",
      "\u001b[?25hRequirement already satisfied: packaging>=20.0 in /Users/punamtanvikshatriya/opt/anaconda3/lib/python3.9/site-packages (from spacy) (21.0)\n",
      "Collecting spacy-loggers<2.0.0,>=1.0.0\n",
      "  Using cached spacy_loggers-1.0.1-py3-none-any.whl (7.0 kB)\n",
      "Collecting preshed<3.1.0,>=3.0.2\n",
      "  Downloading preshed-3.0.6-cp39-cp39-macosx_10_9_x86_64.whl (106 kB)\n",
      "\u001b[K     |████████████████████████████████| 106 kB 2.3 MB/s eta 0:00:01\n",
      "\u001b[?25hCollecting pydantic!=1.8,!=1.8.1,<1.9.0,>=1.7.4\n",
      "  Downloading pydantic-1.8.2-cp39-cp39-macosx_10_9_x86_64.whl (2.7 MB)\n",
      "\u001b[K     |████████████████████████████████| 2.7 MB 3.0 MB/s eta 0:00:01\n",
      "\u001b[?25hRequirement already satisfied: requests<3.0.0,>=2.13.0 in /Users/punamtanvikshatriya/opt/anaconda3/lib/python3.9/site-packages (from spacy) (2.26.0)\n",
      "Collecting blis<0.8.0,>=0.4.0\n",
      "  Downloading blis-0.7.5-cp39-cp39-macosx_10_9_x86_64.whl (5.8 MB)\n",
      "\u001b[K     |████████████████████████████████| 5.8 MB 3.5 MB/s eta 0:00:01\n",
      "\u001b[?25hRequirement already satisfied: pyparsing>=2.0.2 in /Users/punamtanvikshatriya/opt/anaconda3/lib/python3.9/site-packages (from packaging>=20.0->spacy) (3.0.4)\n",
      "Collecting smart-open<6.0.0,>=5.0.0\n",
      "  Using cached smart_open-5.2.1-py3-none-any.whl (58 kB)\n",
      "Requirement already satisfied: typing-extensions>=3.7.4.3 in /Users/punamtanvikshatriya/opt/anaconda3/lib/python3.9/site-packages (from pydantic!=1.8,!=1.8.1,<1.9.0,>=1.7.4->spacy) (3.10.0.2)\n",
      "Requirement already satisfied: idna<4,>=2.5 in /Users/punamtanvikshatriya/opt/anaconda3/lib/python3.9/site-packages (from requests<3.0.0,>=2.13.0->spacy) (3.2)\n",
      "Requirement already satisfied: certifi>=2017.4.17 in /Users/punamtanvikshatriya/opt/anaconda3/lib/python3.9/site-packages (from requests<3.0.0,>=2.13.0->spacy) (2021.10.8)\n",
      "Requirement already satisfied: urllib3<1.27,>=1.21.1 in /Users/punamtanvikshatriya/opt/anaconda3/lib/python3.9/site-packages (from requests<3.0.0,>=2.13.0->spacy) (1.26.7)\n",
      "Requirement already satisfied: charset-normalizer~=2.0.0 in /Users/punamtanvikshatriya/opt/anaconda3/lib/python3.9/site-packages (from requests<3.0.0,>=2.13.0->spacy) (2.0.4)\n",
      "Requirement already satisfied: click<9.0.0,>=7.1.1 in /Users/punamtanvikshatriya/opt/anaconda3/lib/python3.9/site-packages (from typer<0.5.0,>=0.3.0->spacy) (8.0.3)\n",
      "Requirement already satisfied: MarkupSafe>=0.23 in /Users/punamtanvikshatriya/opt/anaconda3/lib/python3.9/site-packages (from jinja2->spacy) (1.1.1)\n",
      "Installing collected packages: murmurhash, cymem, catalogue, wasabi, typer, srsly, smart-open, pydantic, preshed, blis, thinc, spacy-loggers, spacy-legacy, pathy, langcodes, spacy\n",
      "Successfully installed blis-0.7.5 catalogue-2.0.6 cymem-2.0.6 langcodes-3.3.0 murmurhash-1.0.6 pathy-0.6.1 preshed-3.0.6 pydantic-1.8.2 smart-open-5.2.1 spacy-3.2.1 spacy-legacy-3.0.8 spacy-loggers-1.0.1 srsly-2.4.2 thinc-8.0.13 typer-0.4.0 wasabi-0.9.0\n",
      "Note: you may need to restart the kernel to use updated packages.\n"
     ]
    }
   ],
   "source": [
    "pip install spacy"
   ]
  },
  {
   "cell_type": "code",
   "execution_count": 9,
   "id": "dc3449a4",
   "metadata": {},
   "outputs": [
    {
     "name": "stdout",
     "output_type": "stream",
     "text": [
      "Collecting https://github.com/explosion/spacy-models/releases/download/en_core_web_sm-2.2.0/en_core_web_sm-2.2.0.tar.gz\n",
      "  Downloading https://github.com/explosion/spacy-models/releases/download/en_core_web_sm-2.2.0/en_core_web_sm-2.2.0.tar.gz (12.0 MB)\n",
      "\u001b[K     |████████████████████████████████| 12.0 MB 3.1 MB/s eta 0:00:01\n",
      "\u001b[?25hRequirement already satisfied: spacy>=2.2.0 in /Users/punamtanvikshatriya/opt/anaconda3/lib/python3.9/site-packages (from en-core-web-sm==2.2.0) (3.2.1)\n",
      "Requirement already satisfied: spacy-legacy<3.1.0,>=3.0.8 in /Users/punamtanvikshatriya/opt/anaconda3/lib/python3.9/site-packages (from spacy>=2.2.0->en-core-web-sm==2.2.0) (3.0.8)\n",
      "Requirement already satisfied: murmurhash<1.1.0,>=0.28.0 in /Users/punamtanvikshatriya/opt/anaconda3/lib/python3.9/site-packages (from spacy>=2.2.0->en-core-web-sm==2.2.0) (1.0.6)\n",
      "Requirement already satisfied: wasabi<1.1.0,>=0.8.1 in /Users/punamtanvikshatriya/opt/anaconda3/lib/python3.9/site-packages (from spacy>=2.2.0->en-core-web-sm==2.2.0) (0.9.0)\n",
      "Requirement already satisfied: requests<3.0.0,>=2.13.0 in /Users/punamtanvikshatriya/opt/anaconda3/lib/python3.9/site-packages (from spacy>=2.2.0->en-core-web-sm==2.2.0) (2.26.0)\n",
      "Requirement already satisfied: packaging>=20.0 in /Users/punamtanvikshatriya/opt/anaconda3/lib/python3.9/site-packages (from spacy>=2.2.0->en-core-web-sm==2.2.0) (21.0)\n",
      "Requirement already satisfied: langcodes<4.0.0,>=3.2.0 in /Users/punamtanvikshatriya/opt/anaconda3/lib/python3.9/site-packages (from spacy>=2.2.0->en-core-web-sm==2.2.0) (3.3.0)\n",
      "Requirement already satisfied: numpy>=1.15.0 in /Users/punamtanvikshatriya/opt/anaconda3/lib/python3.9/site-packages (from spacy>=2.2.0->en-core-web-sm==2.2.0) (1.20.3)\n",
      "Requirement already satisfied: srsly<3.0.0,>=2.4.1 in /Users/punamtanvikshatriya/opt/anaconda3/lib/python3.9/site-packages (from spacy>=2.2.0->en-core-web-sm==2.2.0) (2.4.2)\n",
      "Requirement already satisfied: cymem<2.1.0,>=2.0.2 in /Users/punamtanvikshatriya/opt/anaconda3/lib/python3.9/site-packages (from spacy>=2.2.0->en-core-web-sm==2.2.0) (2.0.6)\n",
      "Requirement already satisfied: jinja2 in /Users/punamtanvikshatriya/opt/anaconda3/lib/python3.9/site-packages (from spacy>=2.2.0->en-core-web-sm==2.2.0) (2.11.3)\n",
      "Requirement already satisfied: preshed<3.1.0,>=3.0.2 in /Users/punamtanvikshatriya/opt/anaconda3/lib/python3.9/site-packages (from spacy>=2.2.0->en-core-web-sm==2.2.0) (3.0.6)\n",
      "Requirement already satisfied: pathy>=0.3.5 in /Users/punamtanvikshatriya/opt/anaconda3/lib/python3.9/site-packages (from spacy>=2.2.0->en-core-web-sm==2.2.0) (0.6.1)\n",
      "Requirement already satisfied: setuptools in /Users/punamtanvikshatriya/opt/anaconda3/lib/python3.9/site-packages (from spacy>=2.2.0->en-core-web-sm==2.2.0) (58.0.4)\n",
      "Requirement already satisfied: pydantic!=1.8,!=1.8.1,<1.9.0,>=1.7.4 in /Users/punamtanvikshatriya/opt/anaconda3/lib/python3.9/site-packages (from spacy>=2.2.0->en-core-web-sm==2.2.0) (1.8.2)\n",
      "Requirement already satisfied: thinc<8.1.0,>=8.0.12 in /Users/punamtanvikshatriya/opt/anaconda3/lib/python3.9/site-packages (from spacy>=2.2.0->en-core-web-sm==2.2.0) (8.0.13)\n",
      "Requirement already satisfied: blis<0.8.0,>=0.4.0 in /Users/punamtanvikshatriya/opt/anaconda3/lib/python3.9/site-packages (from spacy>=2.2.0->en-core-web-sm==2.2.0) (0.7.5)\n",
      "Requirement already satisfied: typer<0.5.0,>=0.3.0 in /Users/punamtanvikshatriya/opt/anaconda3/lib/python3.9/site-packages (from spacy>=2.2.0->en-core-web-sm==2.2.0) (0.4.0)\n",
      "Requirement already satisfied: tqdm<5.0.0,>=4.38.0 in /Users/punamtanvikshatriya/opt/anaconda3/lib/python3.9/site-packages (from spacy>=2.2.0->en-core-web-sm==2.2.0) (4.62.3)\n",
      "Requirement already satisfied: spacy-loggers<2.0.0,>=1.0.0 in /Users/punamtanvikshatriya/opt/anaconda3/lib/python3.9/site-packages (from spacy>=2.2.0->en-core-web-sm==2.2.0) (1.0.1)\n",
      "Requirement already satisfied: catalogue<2.1.0,>=2.0.6 in /Users/punamtanvikshatriya/opt/anaconda3/lib/python3.9/site-packages (from spacy>=2.2.0->en-core-web-sm==2.2.0) (2.0.6)\n",
      "Requirement already satisfied: pyparsing>=2.0.2 in /Users/punamtanvikshatriya/opt/anaconda3/lib/python3.9/site-packages (from packaging>=20.0->spacy>=2.2.0->en-core-web-sm==2.2.0) (3.0.4)\n",
      "Requirement already satisfied: smart-open<6.0.0,>=5.0.0 in /Users/punamtanvikshatriya/opt/anaconda3/lib/python3.9/site-packages (from pathy>=0.3.5->spacy>=2.2.0->en-core-web-sm==2.2.0) (5.2.1)\n",
      "Requirement already satisfied: typing-extensions>=3.7.4.3 in /Users/punamtanvikshatriya/opt/anaconda3/lib/python3.9/site-packages (from pydantic!=1.8,!=1.8.1,<1.9.0,>=1.7.4->spacy>=2.2.0->en-core-web-sm==2.2.0) (3.10.0.2)\n",
      "Requirement already satisfied: charset-normalizer~=2.0.0 in /Users/punamtanvikshatriya/opt/anaconda3/lib/python3.9/site-packages (from requests<3.0.0,>=2.13.0->spacy>=2.2.0->en-core-web-sm==2.2.0) (2.0.4)\n",
      "Requirement already satisfied: urllib3<1.27,>=1.21.1 in /Users/punamtanvikshatriya/opt/anaconda3/lib/python3.9/site-packages (from requests<3.0.0,>=2.13.0->spacy>=2.2.0->en-core-web-sm==2.2.0) (1.26.7)\n",
      "Requirement already satisfied: certifi>=2017.4.17 in /Users/punamtanvikshatriya/opt/anaconda3/lib/python3.9/site-packages (from requests<3.0.0,>=2.13.0->spacy>=2.2.0->en-core-web-sm==2.2.0) (2021.10.8)\n",
      "Requirement already satisfied: idna<4,>=2.5 in /Users/punamtanvikshatriya/opt/anaconda3/lib/python3.9/site-packages (from requests<3.0.0,>=2.13.0->spacy>=2.2.0->en-core-web-sm==2.2.0) (3.2)\n",
      "Requirement already satisfied: click<9.0.0,>=7.1.1 in /Users/punamtanvikshatriya/opt/anaconda3/lib/python3.9/site-packages (from typer<0.5.0,>=0.3.0->spacy>=2.2.0->en-core-web-sm==2.2.0) (8.0.3)\n",
      "Requirement already satisfied: MarkupSafe>=0.23 in /Users/punamtanvikshatriya/opt/anaconda3/lib/python3.9/site-packages (from jinja2->spacy>=2.2.0->en-core-web-sm==2.2.0) (1.1.1)\n",
      "Building wheels for collected packages: en-core-web-sm\n",
      "  Building wheel for en-core-web-sm (setup.py) ... \u001b[?25ldone\n",
      "\u001b[?25h  Created wheel for en-core-web-sm: filename=en_core_web_sm-2.2.0-py3-none-any.whl size=12019124 sha256=5ba2206eb248c8e8005244194babd2c2c0cd927b389e031066ea5aa0472c1bea\n",
      "  Stored in directory: /Users/punamtanvikshatriya/Library/Caches/pip/wheels/02/87/47/4d729a97cc46afa46135595b4de32d01461f05947df39166d7\n",
      "Successfully built en-core-web-sm\n",
      "Installing collected packages: en-core-web-sm\n",
      "Successfully installed en-core-web-sm-2.2.0\n",
      "Note: you may need to restart the kernel to use updated packages.\n"
     ]
    }
   ],
   "source": [
    "pip install https://github.com/explosion/spacy-models/releases/download/en_core_web_sm-2.2.0/en_core_web_sm-2.2.0.tar.gz"
   ]
  },
  {
   "cell_type": "code",
   "execution_count": 30,
   "id": "eb506d97",
   "metadata": {},
   "outputs": [
    {
     "name": "stdout",
     "output_type": "stream",
     "text": [
      "Requirement already satisfied: spacy in /Users/punamtanvikshatriya/opt/anaconda3/lib/python3.9/site-packages (3.2.1)\n",
      "Requirement already satisfied: preshed<3.1.0,>=3.0.2 in /Users/punamtanvikshatriya/opt/anaconda3/lib/python3.9/site-packages (from spacy) (3.0.6)\n",
      "Requirement already satisfied: blis<0.8.0,>=0.4.0 in /Users/punamtanvikshatriya/opt/anaconda3/lib/python3.9/site-packages (from spacy) (0.7.5)\n",
      "Requirement already satisfied: srsly<3.0.0,>=2.4.1 in /Users/punamtanvikshatriya/opt/anaconda3/lib/python3.9/site-packages (from spacy) (2.4.2)\n",
      "Requirement already satisfied: langcodes<4.0.0,>=3.2.0 in /Users/punamtanvikshatriya/opt/anaconda3/lib/python3.9/site-packages (from spacy) (3.3.0)\n",
      "Requirement already satisfied: cymem<2.1.0,>=2.0.2 in /Users/punamtanvikshatriya/opt/anaconda3/lib/python3.9/site-packages (from spacy) (2.0.6)\n",
      "Requirement already satisfied: pathy>=0.3.5 in /Users/punamtanvikshatriya/opt/anaconda3/lib/python3.9/site-packages (from spacy) (0.6.1)\n",
      "Requirement already satisfied: setuptools in /Users/punamtanvikshatriya/opt/anaconda3/lib/python3.9/site-packages (from spacy) (58.0.4)\n",
      "Requirement already satisfied: packaging>=20.0 in /Users/punamtanvikshatriya/opt/anaconda3/lib/python3.9/site-packages (from spacy) (21.0)\n",
      "Requirement already satisfied: catalogue<2.1.0,>=2.0.6 in /Users/punamtanvikshatriya/opt/anaconda3/lib/python3.9/site-packages (from spacy) (2.0.6)\n",
      "Requirement already satisfied: wasabi<1.1.0,>=0.8.1 in /Users/punamtanvikshatriya/opt/anaconda3/lib/python3.9/site-packages (from spacy) (0.9.0)\n",
      "Requirement already satisfied: requests<3.0.0,>=2.13.0 in /Users/punamtanvikshatriya/opt/anaconda3/lib/python3.9/site-packages (from spacy) (2.26.0)\n",
      "Requirement already satisfied: spacy-legacy<3.1.0,>=3.0.8 in /Users/punamtanvikshatriya/opt/anaconda3/lib/python3.9/site-packages (from spacy) (3.0.8)\n",
      "Requirement already satisfied: pydantic!=1.8,!=1.8.1,<1.9.0,>=1.7.4 in /Users/punamtanvikshatriya/opt/anaconda3/lib/python3.9/site-packages (from spacy) (1.8.2)\n",
      "Requirement already satisfied: murmurhash<1.1.0,>=0.28.0 in /Users/punamtanvikshatriya/opt/anaconda3/lib/python3.9/site-packages (from spacy) (1.0.6)\n",
      "Requirement already satisfied: typer<0.5.0,>=0.3.0 in /Users/punamtanvikshatriya/opt/anaconda3/lib/python3.9/site-packages (from spacy) (0.4.0)\n",
      "Requirement already satisfied: thinc<8.1.0,>=8.0.12 in /Users/punamtanvikshatriya/opt/anaconda3/lib/python3.9/site-packages (from spacy) (8.0.13)\n",
      "Requirement already satisfied: jinja2 in /Users/punamtanvikshatriya/opt/anaconda3/lib/python3.9/site-packages (from spacy) (2.11.3)\n",
      "Requirement already satisfied: spacy-loggers<2.0.0,>=1.0.0 in /Users/punamtanvikshatriya/opt/anaconda3/lib/python3.9/site-packages (from spacy) (1.0.1)\n",
      "Requirement already satisfied: tqdm<5.0.0,>=4.38.0 in /Users/punamtanvikshatriya/opt/anaconda3/lib/python3.9/site-packages (from spacy) (4.62.3)\n",
      "Requirement already satisfied: numpy>=1.15.0 in /Users/punamtanvikshatriya/opt/anaconda3/lib/python3.9/site-packages (from spacy) (1.20.3)\n",
      "Requirement already satisfied: pyparsing>=2.0.2 in /Users/punamtanvikshatriya/opt/anaconda3/lib/python3.9/site-packages (from packaging>=20.0->spacy) (3.0.4)\n",
      "Requirement already satisfied: smart-open<6.0.0,>=5.0.0 in /Users/punamtanvikshatriya/opt/anaconda3/lib/python3.9/site-packages (from pathy>=0.3.5->spacy) (5.2.1)\n",
      "Requirement already satisfied: typing-extensions>=3.7.4.3 in /Users/punamtanvikshatriya/opt/anaconda3/lib/python3.9/site-packages (from pydantic!=1.8,!=1.8.1,<1.9.0,>=1.7.4->spacy) (3.10.0.2)\n",
      "Requirement already satisfied: urllib3<1.27,>=1.21.1 in /Users/punamtanvikshatriya/opt/anaconda3/lib/python3.9/site-packages (from requests<3.0.0,>=2.13.0->spacy) (1.26.7)\n",
      "Requirement already satisfied: charset-normalizer~=2.0.0 in /Users/punamtanvikshatriya/opt/anaconda3/lib/python3.9/site-packages (from requests<3.0.0,>=2.13.0->spacy) (2.0.4)\n",
      "Requirement already satisfied: certifi>=2017.4.17 in /Users/punamtanvikshatriya/opt/anaconda3/lib/python3.9/site-packages (from requests<3.0.0,>=2.13.0->spacy) (2021.10.8)\n",
      "Requirement already satisfied: idna<4,>=2.5 in /Users/punamtanvikshatriya/opt/anaconda3/lib/python3.9/site-packages (from requests<3.0.0,>=2.13.0->spacy) (3.2)\n",
      "Requirement already satisfied: click<9.0.0,>=7.1.1 in /Users/punamtanvikshatriya/opt/anaconda3/lib/python3.9/site-packages (from typer<0.5.0,>=0.3.0->spacy) (8.0.3)\n",
      "Requirement already satisfied: MarkupSafe>=0.23 in /Users/punamtanvikshatriya/opt/anaconda3/lib/python3.9/site-packages (from jinja2->spacy) (1.1.1)\n",
      "Note: you may need to restart the kernel to use updated packages.\n"
     ]
    }
   ],
   "source": [
    "\n",
    "pip install -U spacy"
   ]
  },
  {
   "cell_type": "code",
   "execution_count": 43,
   "id": "50c140a0",
   "metadata": {},
   "outputs": [
    {
     "name": "stdout",
     "output_type": "stream",
     "text": [
      "Collecting package metadata (current_repodata.json): \\ WARNING conda.models.version:get_matcher(537): Using .* with relational operator is superfluous and deprecated and will be removed in a future version of conda. Your spec was 1.*, but conda is ignoring the .* and treating it as 1\n",
      "done\n",
      "Solving environment: done\n",
      "\n",
      "## Package Plan ##\n",
      "\n",
      "  environment location: /Users/punamtanvikshatriya/opt/anaconda3\n",
      "\n",
      "  added / updated specs:\n",
      "    - spacy-model-en_core_web_sm\n",
      "\n",
      "\n",
      "The following packages will be downloaded:\n",
      "\n",
      "    package                    |            build\n",
      "    ---------------------------|-----------------\n",
      "    conda-4.11.0               |   py39hecd8cb5_0        14.4 MB\n",
      "    spacy-model-en_core_web_sm-3.0.0|     pyh44b312d_0        13.3 MB  conda-forge/label/broken\n",
      "    ------------------------------------------------------------\n",
      "                                           Total:        27.8 MB\n",
      "\n",
      "The following NEW packages will be INSTALLED:\n",
      "\n",
      "  spacy-model-en_co~ conda-forge/label/broken/noarch::spacy-model-en_core_web_sm-3.0.0-pyh44b312d_0\n",
      "\n",
      "The following packages will be UPDATED:\n",
      "\n",
      "  conda                               4.10.3-py39hecd8cb5_0 --> 4.11.0-py39hecd8cb5_0\n",
      "\n",
      "\n",
      "\n",
      "Downloading and Extracting Packages\n",
      "conda-4.11.0         | 14.4 MB   | ##################################### | 100% \n",
      "spacy-model-en_core_ | 13.3 MB   | ##################################### | 100% \n",
      "Preparing transaction: done\n",
      "Verifying transaction: done\n",
      "Executing transaction: done\n",
      "\n",
      "Note: you may need to restart the kernel to use updated packages.\n"
     ]
    }
   ],
   "source": [
    "conda install -c conda-forge/label/broken spacy-model-en_core_web_sm"
   ]
  },
  {
   "cell_type": "code",
   "execution_count": 9,
   "id": "31866dce",
   "metadata": {},
   "outputs": [
    {
     "name": "stdout",
     "output_type": "stream",
     "text": [
      "Defaulting to user installation because normal site-packages is not writeable\n",
      "Collecting https://github.com/explosion/spacy-models/releases/download/en_core_web_sm-2.2.5/en_core_web_sm-2.2.5.tar.gz\n",
      "  Downloading https://github.com/explosion/spacy-models/releases/download/en_core_web_sm-2.2.5/en_core_web_sm-2.2.5.tar.gz (12.0 MB)\n",
      "\u001b[2K     \u001b[90m━━━━━━━━━━━━━━━━━━━━━━━━━━━━━━━━━━━━━━━━\u001b[0m \u001b[32m12.0/12.0 MB\u001b[0m \u001b[31m2.9 MB/s\u001b[0m eta \u001b[36m0:00:00\u001b[0m00:01\u001b[0m00:01\u001b[0m\n",
      "\u001b[?25h  Preparing metadata (setup.py) ... \u001b[?25ldone\n",
      "\u001b[?25hRequirement already satisfied: spacy>=2.2.2 in /Users/punamtanvikshatriya/Library/Python/3.8/lib/python/site-packages (from en-core-web-sm==2.2.5) (3.2.1)\n",
      "Requirement already satisfied: spacy-loggers<2.0.0,>=1.0.0 in /Users/punamtanvikshatriya/Library/Python/3.8/lib/python/site-packages (from spacy>=2.2.2->en-core-web-sm==2.2.5) (1.0.1)\n",
      "Requirement already satisfied: murmurhash<1.1.0,>=0.28.0 in /Users/punamtanvikshatriya/Library/Python/3.8/lib/python/site-packages (from spacy>=2.2.2->en-core-web-sm==2.2.5) (1.0.6)\n",
      "Requirement already satisfied: langcodes<4.0.0,>=3.2.0 in /Users/punamtanvikshatriya/Library/Python/3.8/lib/python/site-packages (from spacy>=2.2.2->en-core-web-sm==2.2.5) (3.3.0)\n",
      "Requirement already satisfied: typer<0.5.0,>=0.3.0 in /Users/punamtanvikshatriya/Library/Python/3.8/lib/python/site-packages (from spacy>=2.2.2->en-core-web-sm==2.2.5) (0.4.0)\n",
      "Requirement already satisfied: numpy>=1.15.0 in /Users/punamtanvikshatriya/Library/Python/3.8/lib/python/site-packages (from spacy>=2.2.2->en-core-web-sm==2.2.5) (1.22.2)\n",
      "Requirement already satisfied: wasabi<1.1.0,>=0.8.1 in /Users/punamtanvikshatriya/Library/Python/3.8/lib/python/site-packages (from spacy>=2.2.2->en-core-web-sm==2.2.5) (0.9.0)\n",
      "Requirement already satisfied: cymem<2.1.0,>=2.0.2 in /Users/punamtanvikshatriya/Library/Python/3.8/lib/python/site-packages (from spacy>=2.2.2->en-core-web-sm==2.2.5) (2.0.6)\n",
      "Requirement already satisfied: pathy>=0.3.5 in /Users/punamtanvikshatriya/Library/Python/3.8/lib/python/site-packages (from spacy>=2.2.2->en-core-web-sm==2.2.5) (0.6.1)\n",
      "Requirement already satisfied: blis<0.8.0,>=0.4.0 in /Users/punamtanvikshatriya/Library/Python/3.8/lib/python/site-packages (from spacy>=2.2.2->en-core-web-sm==2.2.5) (0.7.5)\n",
      "Requirement already satisfied: srsly<3.0.0,>=2.4.1 in /Users/punamtanvikshatriya/Library/Python/3.8/lib/python/site-packages (from spacy>=2.2.2->en-core-web-sm==2.2.5) (2.4.2)\n",
      "Requirement already satisfied: requests<3.0.0,>=2.13.0 in /Users/punamtanvikshatriya/Library/Python/3.8/lib/python/site-packages (from spacy>=2.2.2->en-core-web-sm==2.2.5) (2.27.1)\n",
      "Requirement already satisfied: preshed<3.1.0,>=3.0.2 in /Users/punamtanvikshatriya/Library/Python/3.8/lib/python/site-packages (from spacy>=2.2.2->en-core-web-sm==2.2.5) (3.0.6)\n",
      "Requirement already satisfied: pydantic!=1.8,!=1.8.1,<1.9.0,>=1.7.4 in /Users/punamtanvikshatriya/Library/Python/3.8/lib/python/site-packages (from spacy>=2.2.2->en-core-web-sm==2.2.5) (1.8.2)\n",
      "Requirement already satisfied: spacy-legacy<3.1.0,>=3.0.8 in /Users/punamtanvikshatriya/Library/Python/3.8/lib/python/site-packages (from spacy>=2.2.2->en-core-web-sm==2.2.5) (3.0.8)\n",
      "Requirement already satisfied: thinc<8.1.0,>=8.0.12 in /Users/punamtanvikshatriya/Library/Python/3.8/lib/python/site-packages (from spacy>=2.2.2->en-core-web-sm==2.2.5) (8.0.13)\n",
      "Requirement already satisfied: packaging>=20.0 in /Users/punamtanvikshatriya/Library/Python/3.8/lib/python/site-packages (from spacy>=2.2.2->en-core-web-sm==2.2.5) (21.3)\n",
      "Requirement already satisfied: catalogue<2.1.0,>=2.0.6 in /Users/punamtanvikshatriya/Library/Python/3.8/lib/python/site-packages (from spacy>=2.2.2->en-core-web-sm==2.2.5) (2.0.6)\n",
      "Requirement already satisfied: setuptools in /Library/Developer/CommandLineTools/Library/Frameworks/Python3.framework/Versions/3.8/lib/python3.8/site-packages (from spacy>=2.2.2->en-core-web-sm==2.2.5) (49.2.1)\n",
      "Requirement already satisfied: tqdm<5.0.0,>=4.38.0 in /Users/punamtanvikshatriya/Library/Python/3.8/lib/python/site-packages (from spacy>=2.2.2->en-core-web-sm==2.2.5) (4.62.3)\n",
      "Requirement already satisfied: jinja2 in /Users/punamtanvikshatriya/Library/Python/3.8/lib/python/site-packages (from spacy>=2.2.2->en-core-web-sm==2.2.5) (3.0.3)\n",
      "Requirement already satisfied: pyparsing!=3.0.5,>=2.0.2 in /Users/punamtanvikshatriya/Library/Python/3.8/lib/python/site-packages (from packaging>=20.0->spacy>=2.2.2->en-core-web-sm==2.2.5) (3.0.7)\n",
      "Requirement already satisfied: smart-open<6.0.0,>=5.0.0 in /Users/punamtanvikshatriya/Library/Python/3.8/lib/python/site-packages (from pathy>=0.3.5->spacy>=2.2.2->en-core-web-sm==2.2.5) (5.2.1)\n",
      "Requirement already satisfied: typing-extensions>=3.7.4.3 in /Users/punamtanvikshatriya/Library/Python/3.8/lib/python/site-packages (from pydantic!=1.8,!=1.8.1,<1.9.0,>=1.7.4->spacy>=2.2.2->en-core-web-sm==2.2.5) (4.0.1)\n",
      "Requirement already satisfied: urllib3<1.27,>=1.21.1 in /Users/punamtanvikshatriya/Library/Python/3.8/lib/python/site-packages (from requests<3.0.0,>=2.13.0->spacy>=2.2.2->en-core-web-sm==2.2.5) (1.26.8)\n",
      "Requirement already satisfied: idna<4,>=2.5 in /Users/punamtanvikshatriya/Library/Python/3.8/lib/python/site-packages (from requests<3.0.0,>=2.13.0->spacy>=2.2.2->en-core-web-sm==2.2.5) (3.3)\n",
      "Requirement already satisfied: certifi>=2017.4.17 in /Users/punamtanvikshatriya/Library/Python/3.8/lib/python/site-packages (from requests<3.0.0,>=2.13.0->spacy>=2.2.2->en-core-web-sm==2.2.5) (2021.10.8)\n",
      "Requirement already satisfied: charset-normalizer~=2.0.0 in /Users/punamtanvikshatriya/Library/Python/3.8/lib/python/site-packages (from requests<3.0.0,>=2.13.0->spacy>=2.2.2->en-core-web-sm==2.2.5) (2.0.11)\n",
      "Requirement already satisfied: click<9.0.0,>=7.1.1 in /Users/punamtanvikshatriya/Library/Python/3.8/lib/python/site-packages (from typer<0.5.0,>=0.3.0->spacy>=2.2.2->en-core-web-sm==2.2.5) (8.0.3)\n",
      "Requirement already satisfied: MarkupSafe>=2.0 in /Users/punamtanvikshatriya/Library/Python/3.8/lib/python/site-packages (from jinja2->spacy>=2.2.2->en-core-web-sm==2.2.5) (2.0.1)\n",
      "Building wheels for collected packages: en-core-web-sm\n",
      "  Building wheel for en-core-web-sm (setup.py) ... \u001b[?25ldone\n",
      "\u001b[?25h  Created wheel for en-core-web-sm: filename=en_core_web_sm-2.2.5-py3-none-any.whl size=12011737 sha256=b19abb5bd41062c14509e23b3f39ba23fd287bf37feabf85acce02d3f08f02b1\n",
      "  Stored in directory: /Users/punamtanvikshatriya/Library/Caches/pip/wheels/77/b4/c8/395804b9a2b6864aaff3623d7b709680acc3d04f47c8162ee6\n",
      "Successfully built en-core-web-sm\n",
      "Installing collected packages: en-core-web-sm\n",
      "Successfully installed en-core-web-sm-2.2.5\n",
      "Note: you may need to restart the kernel to use updated packages.\n"
     ]
    }
   ],
   "source": [
    "\n",
    "pip install https://github.com/explosion/spacy-models/releases/download/en_core_web_sm-2.2.5/en_core_web_sm-2.2.5.tar.gz"
   ]
  },
  {
   "cell_type": "code",
   "execution_count": 3,
   "id": "3e4babfd",
   "metadata": {},
   "outputs": [
    {
     "name": "stdout",
     "output_type": "stream",
     "text": [
      "Defaulting to user installation because normal site-packages is not writeable\n",
      "Collecting Pillow\n",
      "  Downloading Pillow-9.0.1-1-cp38-cp38-macosx_11_0_arm64.whl (2.7 MB)\n",
      "\u001b[2K     \u001b[90m━━━━━━━━━━━━━━━━━━━━━━━━━━━━━━━━━━━━━━━━\u001b[0m \u001b[32m2.7/2.7 MB\u001b[0m \u001b[31m4.8 MB/s\u001b[0m eta \u001b[36m0:00:00\u001b[0m00:01\u001b[0m00:01\u001b[0m\n",
      "\u001b[?25hInstalling collected packages: Pillow\n",
      "Successfully installed Pillow-9.0.1\n",
      "Note: you may need to restart the kernel to use updated packages.\n"
     ]
    }
   ],
   "source": [
    "pip install Pillow"
   ]
  },
  {
   "cell_type": "code",
   "execution_count": 4,
   "id": "c4b73eee",
   "metadata": {},
   "outputs": [
    {
     "name": "stdout",
     "output_type": "stream",
     "text": [
      "Defaulting to user installation because normal site-packages is not writeable\n",
      "Collecting image\n",
      "  Downloading image-1.5.33.tar.gz (15 kB)\n",
      "  Preparing metadata (setup.py) ... \u001b[?25ldone\n",
      "\u001b[?25hRequirement already satisfied: pillow in /Users/punamtanvikshatriya/Library/Python/3.8/lib/python/site-packages (from image) (9.0.1)\n",
      "Collecting django\n",
      "  Downloading Django-4.0.2-py3-none-any.whl (8.0 MB)\n",
      "\u001b[2K     \u001b[90m━━━━━━━━━━━━━━━━━━━━━━━━━━━━━━━━━━━━━━━━\u001b[0m \u001b[32m8.0/8.0 MB\u001b[0m \u001b[31m5.2 MB/s\u001b[0m eta \u001b[36m0:00:00\u001b[0m00:01\u001b[0m00:01\u001b[0m\n",
      "\u001b[?25hRequirement already satisfied: six in /Library/Developer/CommandLineTools/Library/Frameworks/Python3.framework/Versions/3.8/lib/python3.8/site-packages (from image) (1.15.0)\n",
      "Collecting backports.zoneinfo\n",
      "  Downloading backports.zoneinfo-0.2.1.tar.gz (74 kB)\n",
      "\u001b[2K     \u001b[90m━━━━━━━━━━━━━━━━━━━━━━━━━━━━━━━━━━━━━━━━\u001b[0m \u001b[32m74.1/74.1 KB\u001b[0m \u001b[31m2.2 MB/s\u001b[0m eta \u001b[36m0:00:00\u001b[0m\n",
      "\u001b[?25h  Installing build dependencies ... \u001b[?25ldone\n",
      "\u001b[?25h  Getting requirements to build wheel ... \u001b[?25ldone\n",
      "\u001b[?25h  Preparing metadata (pyproject.toml) ... \u001b[?25ldone\n",
      "\u001b[?25hCollecting asgiref<4,>=3.4.1\n",
      "  Downloading asgiref-3.5.0-py3-none-any.whl (22 kB)\n",
      "Collecting sqlparse>=0.2.2\n",
      "  Downloading sqlparse-0.4.2-py3-none-any.whl (42 kB)\n",
      "\u001b[2K     \u001b[90m━━━━━━━━━━━━━━━━━━━━━━━━━━━━━━━━━━━━━━━━\u001b[0m \u001b[32m42.3/42.3 KB\u001b[0m \u001b[31m1.4 MB/s\u001b[0m eta \u001b[36m0:00:00\u001b[0m\n",
      "\u001b[?25hBuilding wheels for collected packages: image, backports.zoneinfo\n",
      "  Building wheel for image (setup.py) ... \u001b[?25ldone\n",
      "\u001b[?25h  Created wheel for image: filename=image-1.5.33-py2.py3-none-any.whl size=19482 sha256=1d7eaaf1d7c9cfca432cb80d1ec27b9252219ec88f3cb533c6976b608c31b5be\n",
      "  Stored in directory: /Users/punamtanvikshatriya/Library/Caches/pip/wheels/ac/30/5c/a8b33888bea3507eda7c924a143d34b2390d2ca5b145b327b5\n",
      "  Building wheel for backports.zoneinfo (pyproject.toml) ... \u001b[?25ldone\n",
      "\u001b[?25h  Created wheel for backports.zoneinfo: filename=backports.zoneinfo-0.2.1-cp38-cp38-macosx_10_14_6_arm64.whl size=49395 sha256=bc7b6df5d8ab472ad2287a5f7ecb9037dc369f5817fcb37afc4ef628d1199d26\n",
      "  Stored in directory: /Users/punamtanvikshatriya/Library/Caches/pip/wheels/c7/de/cc/c405827ed64f81b56142f1e0075a970b2731b00d21983d54fb\n",
      "Successfully built image backports.zoneinfo\n",
      "Installing collected packages: sqlparse, backports.zoneinfo, asgiref, django, image\n",
      "\u001b[33m  WARNING: The script sqlformat is installed in '/Users/punamtanvikshatriya/Library/Python/3.8/bin' which is not on PATH.\n",
      "  Consider adding this directory to PATH or, if you prefer to suppress this warning, use --no-warn-script-location.\u001b[0m\u001b[33m\n",
      "\u001b[0m\u001b[33m  WARNING: The script django-admin is installed in '/Users/punamtanvikshatriya/Library/Python/3.8/bin' which is not on PATH.\n",
      "  Consider adding this directory to PATH or, if you prefer to suppress this warning, use --no-warn-script-location.\u001b[0m\u001b[33m\n",
      "\u001b[0mSuccessfully installed asgiref-3.5.0 backports.zoneinfo-0.2.1 django-4.0.2 image-1.5.33 sqlparse-0.4.2\n",
      "Note: you may need to restart the kernel to use updated packages.\n"
     ]
    }
   ],
   "source": [
    "pip install image"
   ]
  },
  {
   "cell_type": "code",
   "execution_count": 5,
   "id": "87f385f1",
   "metadata": {},
   "outputs": [
    {
     "name": "stdout",
     "output_type": "stream",
     "text": [
      "Defaulting to user installation because normal site-packages is not writeable\n",
      "Collecting pytesseract\n",
      "  Downloading pytesseract-0.3.8.tar.gz (14 kB)\n",
      "  Preparing metadata (setup.py) ... \u001b[?25ldone\n",
      "\u001b[?25hRequirement already satisfied: Pillow in /Users/punamtanvikshatriya/Library/Python/3.8/lib/python/site-packages (from pytesseract) (9.0.1)\n",
      "Building wheels for collected packages: pytesseract\n",
      "  Building wheel for pytesseract (setup.py) ... \u001b[?25ldone\n",
      "\u001b[?25h  Created wheel for pytesseract: filename=pytesseract-0.3.8-py2.py3-none-any.whl size=14062 sha256=9b88dced9f94d661723efcc0d2a5003e205fa5ab58a382595ea5fafbc4f37ecd\n",
      "  Stored in directory: /Users/punamtanvikshatriya/Library/Caches/pip/wheels/ed/8a/c6/40c7ec06c2dd3df636832537238128a1471bf9c1b6a3a9bf40\n",
      "Successfully built pytesseract\n",
      "Installing collected packages: pytesseract\n",
      "\u001b[33m  WARNING: The script pytesseract is installed in '/Users/punamtanvikshatriya/Library/Python/3.8/bin' which is not on PATH.\n",
      "  Consider adding this directory to PATH or, if you prefer to suppress this warning, use --no-warn-script-location.\u001b[0m\u001b[33m\n",
      "\u001b[0mSuccessfully installed pytesseract-0.3.8\n",
      "Note: you may need to restart the kernel to use updated packages.\n"
     ]
    }
   ],
   "source": [
    "pip install pytesseract"
   ]
  },
  {
   "cell_type": "code",
   "execution_count": 36,
   "id": "8c79b325",
   "metadata": {},
   "outputs": [
    {
     "name": "stdout",
     "output_type": "stream",
     "text": [
      "Collecting pdf2image\n",
      "  Using cached pdf2image-1.16.0-py3-none-any.whl (10 kB)\n",
      "Requirement already satisfied: pillow in /Users/punamtanvikshatriya/opt/anaconda3/lib/python3.9/site-packages (from pdf2image) (8.4.0)\n",
      "Installing collected packages: pdf2image\n",
      "Successfully installed pdf2image-1.16.0\n",
      "Note: you may need to restart the kernel to use updated packages.\n"
     ]
    }
   ],
   "source": [
    "pip install pdf2image"
   ]
  },
  {
   "cell_type": "code",
   "execution_count": 22,
   "id": "f3907390",
   "metadata": {},
   "outputs": [
    {
     "name": "stdout",
     "output_type": "stream",
     "text": [
      "Requirement already satisfied: Pillow in /Users/punamtanvikshatriya/opt/anaconda3/lib/python3.9/site-packages (8.4.0)\n",
      "Note: you may need to restart the kernel to use updated packages.\n"
     ]
    }
   ],
   "source": [
    "pip install Pillow"
   ]
  },
  {
   "cell_type": "code",
   "execution_count": 23,
   "id": "f0aac46e",
   "metadata": {},
   "outputs": [
    {
     "name": "stdout",
     "output_type": "stream",
     "text": [
      "Collecting pytesseract\n",
      "  Using cached pytesseract-0.3.8.tar.gz (14 kB)\n",
      "Requirement already satisfied: Pillow in /Users/punamtanvikshatriya/opt/anaconda3/lib/python3.9/site-packages (from pytesseract) (8.4.0)\n",
      "Building wheels for collected packages: pytesseract\n",
      "  Building wheel for pytesseract (setup.py) ... \u001b[?25ldone\n",
      "\u001b[?25h  Created wheel for pytesseract: filename=pytesseract-0.3.8-py2.py3-none-any.whl size=14072 sha256=b1f4514a8fa14e55c89ce0b3ceb5cb4e82981cd3095ac605f9671e56e9e09d42\n",
      "  Stored in directory: /Users/punamtanvikshatriya/Library/Caches/pip/wheels/3f/38/cf/de35347eec541f89e62bb0011764c38cbd4a82c0d532168abb\n",
      "Successfully built pytesseract\n",
      "Installing collected packages: pytesseract\n",
      "Successfully installed pytesseract-0.3.8\n",
      "Note: you may need to restart the kernel to use updated packages.\n"
     ]
    }
   ],
   "source": [
    "pip install pytesseract"
   ]
  },
  {
   "cell_type": "code",
   "execution_count": 6,
   "id": "479f0c18",
   "metadata": {},
   "outputs": [
    {
     "name": "stdout",
     "output_type": "stream",
     "text": [
      "Requirement already satisfied: opencv-python in /Users/punamtanvikshatriya/opt/anaconda3/lib/python3.9/site-packages (4.5.5.62)\n",
      "Requirement already satisfied: numpy>=1.17.3 in /Users/punamtanvikshatriya/opt/anaconda3/lib/python3.9/site-packages (from opencv-python) (1.20.3)\n",
      "Note: you may need to restart the kernel to use updated packages.\n"
     ]
    }
   ],
   "source": [
    "pip install opencv-python"
   ]
  },
  {
   "cell_type": "code",
   "execution_count": 17,
   "id": "039a5998",
   "metadata": {},
   "outputs": [
    {
     "name": "stdout",
     "output_type": "stream",
     "text": [
      "Collecting pdfminer.six\n",
      "  Downloading pdfminer.six-20211012-py3-none-any.whl (5.6 MB)\n",
      "\u001b[K     |████████████████████████████████| 5.6 MB 3.0 MB/s eta 0:00:01\n",
      "\u001b[?25hRequirement already satisfied: cryptography in /Users/punamtanvikshatriya/opt/anaconda3/lib/python3.9/site-packages (from pdfminer.six) (3.4.8)\n",
      "Requirement already satisfied: chardet in /Users/punamtanvikshatriya/opt/anaconda3/lib/python3.9/site-packages (from pdfminer.six) (4.0.0)\n",
      "Requirement already satisfied: cffi>=1.12 in /Users/punamtanvikshatriya/opt/anaconda3/lib/python3.9/site-packages (from cryptography->pdfminer.six) (1.14.6)\n",
      "Requirement already satisfied: pycparser in /Users/punamtanvikshatriya/opt/anaconda3/lib/python3.9/site-packages (from cffi>=1.12->cryptography->pdfminer.six) (2.20)\n",
      "Installing collected packages: pdfminer.six\n",
      "Successfully installed pdfminer.six-20211012\n",
      "Requirement already satisfied: pip in /Users/punamtanvikshatriya/opt/anaconda3/lib/python3.9/site-packages (21.2.4)\n",
      "Collecting pip\n",
      "  Using cached pip-22.0.3-py3-none-any.whl (2.1 MB)\n",
      "Requirement already satisfied: setuptools in /Users/punamtanvikshatriya/opt/anaconda3/lib/python3.9/site-packages (58.0.4)\n",
      "Collecting setuptools\n",
      "  Downloading setuptools-60.9.0-py3-none-any.whl (1.1 MB)\n",
      "\u001b[K     |████████████████████████████████| 1.1 MB 3.1 MB/s eta 0:00:01\n",
      "\u001b[?25hRequirement already satisfied: wheel in /Users/punamtanvikshatriya/opt/anaconda3/lib/python3.9/site-packages (0.37.0)\n",
      "Collecting wheel\n",
      "  Using cached wheel-0.37.1-py2.py3-none-any.whl (35 kB)\n",
      "Installing collected packages: wheel, setuptools, pip\n",
      "  Attempting uninstall: wheel\n",
      "    Found existing installation: wheel 0.37.0\n",
      "    Uninstalling wheel-0.37.0:\n",
      "      Successfully uninstalled wheel-0.37.0\n",
      "  Attempting uninstall: setuptools\n",
      "    Found existing installation: setuptools 58.0.4\n",
      "    Uninstalling setuptools-58.0.4:\n",
      "      Successfully uninstalled setuptools-58.0.4\n",
      "  Attempting uninstall: pip\n",
      "    Found existing installation: pip 21.2.4\n",
      "    Uninstalling pip-21.2.4:\n",
      "      Successfully uninstalled pip-21.2.4\n",
      "\u001b[31mERROR: pip's dependency resolver does not currently take into account all the packages that are installed. This behaviour is the source of the following dependency conflicts.\n",
      "spyder 5.1.5 requires pyqt5<5.13, which is not installed.\n",
      "spyder 5.1.5 requires pyqtwebengine<5.13, which is not installed.\n",
      "conda-repo-cli 1.0.4 requires pathlib, which is not installed.\n",
      "anaconda-project 0.10.1 requires ruamel-yaml, which is not installed.\n",
      "en-core-web-sm 3.0.0 requires spacy<3.1.0,>=3.0.0, but you have spacy 3.2.1 which is incompatible.\u001b[0m\n",
      "Successfully installed pip-22.0.3 setuptools-60.9.0 wheel-0.37.1\n"
     ]
    }
   ],
   "source": [
    "!pip install pdfminer.six\n",
    "!pip install -U pip setuptools wheel"
   ]
  },
  {
   "cell_type": "code",
   "execution_count": 28,
   "id": "99258621",
   "metadata": {},
   "outputs": [
    {
     "name": "stdout",
     "output_type": "stream",
     "text": [
      "Requirement already satisfied: spacy in /Users/punamtanvikshatriya/opt/anaconda3/lib/python3.9/site-packages (3.2.2)\n",
      "Requirement already satisfied: preshed<3.1.0,>=3.0.2 in /Users/punamtanvikshatriya/opt/anaconda3/lib/python3.9/site-packages (from spacy) (3.0.6)\n",
      "Requirement already satisfied: murmurhash<1.1.0,>=0.28.0 in /Users/punamtanvikshatriya/opt/anaconda3/lib/python3.9/site-packages (from spacy) (1.0.6)\n",
      "Requirement already satisfied: catalogue<2.1.0,>=2.0.6 in /Users/punamtanvikshatriya/opt/anaconda3/lib/python3.9/site-packages (from spacy) (2.0.6)\n",
      "Requirement already satisfied: jinja2 in /Users/punamtanvikshatriya/opt/anaconda3/lib/python3.9/site-packages (from spacy) (2.11.3)\n",
      "Requirement already satisfied: spacy-loggers<2.0.0,>=1.0.0 in /Users/punamtanvikshatriya/opt/anaconda3/lib/python3.9/site-packages (from spacy) (1.0.1)\n",
      "Requirement already satisfied: pydantic!=1.8,!=1.8.1,<1.9.0,>=1.7.4 in /Users/punamtanvikshatriya/opt/anaconda3/lib/python3.9/site-packages (from spacy) (1.8.2)\n",
      "Requirement already satisfied: tqdm<5.0.0,>=4.38.0 in /Users/punamtanvikshatriya/opt/anaconda3/lib/python3.9/site-packages (from spacy) (4.62.3)\n",
      "Requirement already satisfied: blis<0.8.0,>=0.4.0 in /Users/punamtanvikshatriya/opt/anaconda3/lib/python3.9/site-packages (from spacy) (0.7.5)\n",
      "Requirement already satisfied: typer<0.5.0,>=0.3.0 in /Users/punamtanvikshatriya/opt/anaconda3/lib/python3.9/site-packages (from spacy) (0.4.0)\n",
      "Requirement already satisfied: srsly<3.0.0,>=2.4.1 in /Users/punamtanvikshatriya/opt/anaconda3/lib/python3.9/site-packages (from spacy) (2.4.2)\n",
      "Requirement already satisfied: requests<3.0.0,>=2.13.0 in /Users/punamtanvikshatriya/opt/anaconda3/lib/python3.9/site-packages (from spacy) (2.26.0)\n",
      "Requirement already satisfied: numpy>=1.15.0 in /Users/punamtanvikshatriya/opt/anaconda3/lib/python3.9/site-packages (from spacy) (1.20.3)\n",
      "Requirement already satisfied: pathy>=0.3.5 in /Users/punamtanvikshatriya/opt/anaconda3/lib/python3.9/site-packages (from spacy) (0.6.1)\n",
      "Requirement already satisfied: spacy-legacy<3.1.0,>=3.0.8 in /Users/punamtanvikshatriya/opt/anaconda3/lib/python3.9/site-packages (from spacy) (3.0.8)\n",
      "Requirement already satisfied: packaging>=20.0 in /Users/punamtanvikshatriya/opt/anaconda3/lib/python3.9/site-packages (from spacy) (21.0)\n",
      "Requirement already satisfied: thinc<8.1.0,>=8.0.12 in /Users/punamtanvikshatriya/opt/anaconda3/lib/python3.9/site-packages (from spacy) (8.0.13)\n",
      "Requirement already satisfied: langcodes<4.0.0,>=3.2.0 in /Users/punamtanvikshatriya/opt/anaconda3/lib/python3.9/site-packages (from spacy) (3.3.0)\n",
      "Requirement already satisfied: wasabi<1.1.0,>=0.8.1 in /Users/punamtanvikshatriya/opt/anaconda3/lib/python3.9/site-packages (from spacy) (0.9.0)\n",
      "Requirement already satisfied: cymem<2.1.0,>=2.0.2 in /Users/punamtanvikshatriya/opt/anaconda3/lib/python3.9/site-packages (from spacy) (2.0.6)\n",
      "Requirement already satisfied: setuptools in /Users/punamtanvikshatriya/opt/anaconda3/lib/python3.9/site-packages (from spacy) (60.9.0)\n",
      "Requirement already satisfied: pyparsing>=2.0.2 in /Users/punamtanvikshatriya/opt/anaconda3/lib/python3.9/site-packages (from packaging>=20.0->spacy) (3.0.4)\n",
      "Requirement already satisfied: smart-open<6.0.0,>=5.0.0 in /Users/punamtanvikshatriya/opt/anaconda3/lib/python3.9/site-packages (from pathy>=0.3.5->spacy) (5.2.1)\n",
      "Requirement already satisfied: typing-extensions>=3.7.4.3 in /Users/punamtanvikshatriya/opt/anaconda3/lib/python3.9/site-packages (from pydantic!=1.8,!=1.8.1,<1.9.0,>=1.7.4->spacy) (3.10.0.2)\n",
      "Requirement already satisfied: urllib3<1.27,>=1.21.1 in /Users/punamtanvikshatriya/opt/anaconda3/lib/python3.9/site-packages (from requests<3.0.0,>=2.13.0->spacy) (1.26.7)\n",
      "Requirement already satisfied: certifi>=2017.4.17 in /Users/punamtanvikshatriya/opt/anaconda3/lib/python3.9/site-packages (from requests<3.0.0,>=2.13.0->spacy) (2021.10.8)\n",
      "Requirement already satisfied: charset-normalizer~=2.0.0 in /Users/punamtanvikshatriya/opt/anaconda3/lib/python3.9/site-packages (from requests<3.0.0,>=2.13.0->spacy) (2.0.4)\n",
      "Requirement already satisfied: idna<4,>=2.5 in /Users/punamtanvikshatriya/opt/anaconda3/lib/python3.9/site-packages (from requests<3.0.0,>=2.13.0->spacy) (3.2)\n",
      "Requirement already satisfied: click<9.0.0,>=7.1.1 in /Users/punamtanvikshatriya/opt/anaconda3/lib/python3.9/site-packages (from typer<0.5.0,>=0.3.0->spacy) (8.0.3)\n",
      "Requirement already satisfied: MarkupSafe>=0.23 in /Users/punamtanvikshatriya/opt/anaconda3/lib/python3.9/site-packages (from jinja2->spacy) (1.1.1)\n",
      "Collecting en-core-web-trf==3.2.0\n",
      "  Downloading https://github.com/explosion/spacy-models/releases/download/en_core_web_trf-3.2.0/en_core_web_trf-3.2.0-py3-none-any.whl (460.2 MB)\n",
      "\u001b[2K     \u001b[90m━━━━━━━━━━━━━━━━━━━━━━━━━━━━━━━━━━━━━━━\u001b[0m \u001b[32m460.2/460.2 MB\u001b[0m \u001b[31m4.1 MB/s\u001b[0m eta \u001b[36m0:00:00\u001b[0m00:01\u001b[0m00:02\u001b[0m\n",
      "\u001b[?25hRequirement already satisfied: spacy-transformers<1.2.0,>=1.1.2 in /Users/punamtanvikshatriya/opt/anaconda3/lib/python3.9/site-packages (from en-core-web-trf==3.2.0) (1.1.4)\n",
      "Requirement already satisfied: spacy<3.3.0,>=3.2.0 in /Users/punamtanvikshatriya/opt/anaconda3/lib/python3.9/site-packages (from en-core-web-trf==3.2.0) (3.2.2)\n",
      "Requirement already satisfied: tqdm<5.0.0,>=4.38.0 in /Users/punamtanvikshatriya/opt/anaconda3/lib/python3.9/site-packages (from spacy<3.3.0,>=3.2.0->en-core-web-trf==3.2.0) (4.62.3)\n",
      "Requirement already satisfied: srsly<3.0.0,>=2.4.1 in /Users/punamtanvikshatriya/opt/anaconda3/lib/python3.9/site-packages (from spacy<3.3.0,>=3.2.0->en-core-web-trf==3.2.0) (2.4.2)\n",
      "Requirement already satisfied: jinja2 in /Users/punamtanvikshatriya/opt/anaconda3/lib/python3.9/site-packages (from spacy<3.3.0,>=3.2.0->en-core-web-trf==3.2.0) (2.11.3)\n",
      "Requirement already satisfied: requests<3.0.0,>=2.13.0 in /Users/punamtanvikshatriya/opt/anaconda3/lib/python3.9/site-packages (from spacy<3.3.0,>=3.2.0->en-core-web-trf==3.2.0) (2.26.0)\n",
      "Requirement already satisfied: spacy-loggers<2.0.0,>=1.0.0 in /Users/punamtanvikshatriya/opt/anaconda3/lib/python3.9/site-packages (from spacy<3.3.0,>=3.2.0->en-core-web-trf==3.2.0) (1.0.1)\n",
      "Requirement already satisfied: wasabi<1.1.0,>=0.8.1 in /Users/punamtanvikshatriya/opt/anaconda3/lib/python3.9/site-packages (from spacy<3.3.0,>=3.2.0->en-core-web-trf==3.2.0) (0.9.0)\n",
      "Requirement already satisfied: packaging>=20.0 in /Users/punamtanvikshatriya/opt/anaconda3/lib/python3.9/site-packages (from spacy<3.3.0,>=3.2.0->en-core-web-trf==3.2.0) (21.0)\n",
      "Requirement already satisfied: spacy-legacy<3.1.0,>=3.0.8 in /Users/punamtanvikshatriya/opt/anaconda3/lib/python3.9/site-packages (from spacy<3.3.0,>=3.2.0->en-core-web-trf==3.2.0) (3.0.8)\n",
      "Requirement already satisfied: numpy>=1.15.0 in /Users/punamtanvikshatriya/opt/anaconda3/lib/python3.9/site-packages (from spacy<3.3.0,>=3.2.0->en-core-web-trf==3.2.0) (1.20.3)\n",
      "Requirement already satisfied: typer<0.5.0,>=0.3.0 in /Users/punamtanvikshatriya/opt/anaconda3/lib/python3.9/site-packages (from spacy<3.3.0,>=3.2.0->en-core-web-trf==3.2.0) (0.4.0)\n",
      "Requirement already satisfied: cymem<2.1.0,>=2.0.2 in /Users/punamtanvikshatriya/opt/anaconda3/lib/python3.9/site-packages (from spacy<3.3.0,>=3.2.0->en-core-web-trf==3.2.0) (2.0.6)\n",
      "Requirement already satisfied: pydantic!=1.8,!=1.8.1,<1.9.0,>=1.7.4 in /Users/punamtanvikshatriya/opt/anaconda3/lib/python3.9/site-packages (from spacy<3.3.0,>=3.2.0->en-core-web-trf==3.2.0) (1.8.2)\n",
      "Requirement already satisfied: preshed<3.1.0,>=3.0.2 in /Users/punamtanvikshatriya/opt/anaconda3/lib/python3.9/site-packages (from spacy<3.3.0,>=3.2.0->en-core-web-trf==3.2.0) (3.0.6)\n",
      "Requirement already satisfied: catalogue<2.1.0,>=2.0.6 in /Users/punamtanvikshatriya/opt/anaconda3/lib/python3.9/site-packages (from spacy<3.3.0,>=3.2.0->en-core-web-trf==3.2.0) (2.0.6)\n",
      "Requirement already satisfied: murmurhash<1.1.0,>=0.28.0 in /Users/punamtanvikshatriya/opt/anaconda3/lib/python3.9/site-packages (from spacy<3.3.0,>=3.2.0->en-core-web-trf==3.2.0) (1.0.6)\n",
      "Requirement already satisfied: thinc<8.1.0,>=8.0.12 in /Users/punamtanvikshatriya/opt/anaconda3/lib/python3.9/site-packages (from spacy<3.3.0,>=3.2.0->en-core-web-trf==3.2.0) (8.0.13)\n",
      "Requirement already satisfied: setuptools in /Users/punamtanvikshatriya/opt/anaconda3/lib/python3.9/site-packages (from spacy<3.3.0,>=3.2.0->en-core-web-trf==3.2.0) (60.9.0)\n",
      "Requirement already satisfied: langcodes<4.0.0,>=3.2.0 in /Users/punamtanvikshatriya/opt/anaconda3/lib/python3.9/site-packages (from spacy<3.3.0,>=3.2.0->en-core-web-trf==3.2.0) (3.3.0)\n",
      "Requirement already satisfied: blis<0.8.0,>=0.4.0 in /Users/punamtanvikshatriya/opt/anaconda3/lib/python3.9/site-packages (from spacy<3.3.0,>=3.2.0->en-core-web-trf==3.2.0) (0.7.5)\n",
      "Requirement already satisfied: pathy>=0.3.5 in /Users/punamtanvikshatriya/opt/anaconda3/lib/python3.9/site-packages (from spacy<3.3.0,>=3.2.0->en-core-web-trf==3.2.0) (0.6.1)\n",
      "Requirement already satisfied: torch>=1.6.0 in /Users/punamtanvikshatriya/opt/anaconda3/lib/python3.9/site-packages (from spacy-transformers<1.2.0,>=1.1.2->en-core-web-trf==3.2.0) (1.10.2)\n",
      "Requirement already satisfied: spacy-alignments<1.0.0,>=0.7.2 in /Users/punamtanvikshatriya/opt/anaconda3/lib/python3.9/site-packages (from spacy-transformers<1.2.0,>=1.1.2->en-core-web-trf==3.2.0) (0.8.4)\n",
      "Requirement already satisfied: transformers<4.16.0,>=3.4.0 in /Users/punamtanvikshatriya/opt/anaconda3/lib/python3.9/site-packages (from spacy-transformers<1.2.0,>=1.1.2->en-core-web-trf==3.2.0) (4.15.0)\n",
      "Requirement already satisfied: pyparsing>=2.0.2 in /Users/punamtanvikshatriya/opt/anaconda3/lib/python3.9/site-packages (from packaging>=20.0->spacy<3.3.0,>=3.2.0->en-core-web-trf==3.2.0) (3.0.4)\n"
     ]
    },
    {
     "name": "stdout",
     "output_type": "stream",
     "text": [
      "Requirement already satisfied: smart-open<6.0.0,>=5.0.0 in /Users/punamtanvikshatriya/opt/anaconda3/lib/python3.9/site-packages (from pathy>=0.3.5->spacy<3.3.0,>=3.2.0->en-core-web-trf==3.2.0) (5.2.1)\n",
      "Requirement already satisfied: typing-extensions>=3.7.4.3 in /Users/punamtanvikshatriya/opt/anaconda3/lib/python3.9/site-packages (from pydantic!=1.8,!=1.8.1,<1.9.0,>=1.7.4->spacy<3.3.0,>=3.2.0->en-core-web-trf==3.2.0) (3.10.0.2)\n",
      "Requirement already satisfied: urllib3<1.27,>=1.21.1 in /Users/punamtanvikshatriya/opt/anaconda3/lib/python3.9/site-packages (from requests<3.0.0,>=2.13.0->spacy<3.3.0,>=3.2.0->en-core-web-trf==3.2.0) (1.26.7)\n",
      "Requirement already satisfied: certifi>=2017.4.17 in /Users/punamtanvikshatriya/opt/anaconda3/lib/python3.9/site-packages (from requests<3.0.0,>=2.13.0->spacy<3.3.0,>=3.2.0->en-core-web-trf==3.2.0) (2021.10.8)\n",
      "Requirement already satisfied: charset-normalizer~=2.0.0 in /Users/punamtanvikshatriya/opt/anaconda3/lib/python3.9/site-packages (from requests<3.0.0,>=2.13.0->spacy<3.3.0,>=3.2.0->en-core-web-trf==3.2.0) (2.0.4)\n",
      "Requirement already satisfied: idna<4,>=2.5 in /Users/punamtanvikshatriya/opt/anaconda3/lib/python3.9/site-packages (from requests<3.0.0,>=2.13.0->spacy<3.3.0,>=3.2.0->en-core-web-trf==3.2.0) (3.2)\n",
      "Requirement already satisfied: huggingface-hub<1.0,>=0.1.0 in /Users/punamtanvikshatriya/opt/anaconda3/lib/python3.9/site-packages (from transformers<4.16.0,>=3.4.0->spacy-transformers<1.2.0,>=1.1.2->en-core-web-trf==3.2.0) (0.4.0)\n",
      "Requirement already satisfied: pyyaml>=5.1 in /Users/punamtanvikshatriya/opt/anaconda3/lib/python3.9/site-packages (from transformers<4.16.0,>=3.4.0->spacy-transformers<1.2.0,>=1.1.2->en-core-web-trf==3.2.0) (6.0)\n",
      "Requirement already satisfied: filelock in /Users/punamtanvikshatriya/opt/anaconda3/lib/python3.9/site-packages (from transformers<4.16.0,>=3.4.0->spacy-transformers<1.2.0,>=1.1.2->en-core-web-trf==3.2.0) (3.3.1)\n",
      "Requirement already satisfied: sacremoses in /Users/punamtanvikshatriya/opt/anaconda3/lib/python3.9/site-packages (from transformers<4.16.0,>=3.4.0->spacy-transformers<1.2.0,>=1.1.2->en-core-web-trf==3.2.0) (0.0.47)\n",
      "Requirement already satisfied: tokenizers<0.11,>=0.10.1 in /Users/punamtanvikshatriya/opt/anaconda3/lib/python3.9/site-packages (from transformers<4.16.0,>=3.4.0->spacy-transformers<1.2.0,>=1.1.2->en-core-web-trf==3.2.0) (0.10.3)\n",
      "Requirement already satisfied: regex!=2019.12.17 in /Users/punamtanvikshatriya/opt/anaconda3/lib/python3.9/site-packages (from transformers<4.16.0,>=3.4.0->spacy-transformers<1.2.0,>=1.1.2->en-core-web-trf==3.2.0) (2021.8.3)\n",
      "Requirement already satisfied: click<9.0.0,>=7.1.1 in /Users/punamtanvikshatriya/opt/anaconda3/lib/python3.9/site-packages (from typer<0.5.0,>=0.3.0->spacy<3.3.0,>=3.2.0->en-core-web-trf==3.2.0) (8.0.3)\n",
      "Requirement already satisfied: MarkupSafe>=0.23 in /Users/punamtanvikshatriya/opt/anaconda3/lib/python3.9/site-packages (from jinja2->spacy<3.3.0,>=3.2.0->en-core-web-trf==3.2.0) (1.1.1)\n",
      "Requirement already satisfied: joblib in /Users/punamtanvikshatriya/opt/anaconda3/lib/python3.9/site-packages (from sacremoses->transformers<4.16.0,>=3.4.0->spacy-transformers<1.2.0,>=1.1.2->en-core-web-trf==3.2.0) (1.1.0)\n",
      "Requirement already satisfied: six in /Users/punamtanvikshatriya/opt/anaconda3/lib/python3.9/site-packages (from sacremoses->transformers<4.16.0,>=3.4.0->spacy-transformers<1.2.0,>=1.1.2->en-core-web-trf==3.2.0) (1.16.0)\n",
      "\u001b[38;5;2m✔ Download and installation successful\u001b[0m\n",
      "You can now load the package via spacy.load('en_core_web_trf')\n"
     ]
    }
   ],
   "source": [
    "!pip install -U spacy\n",
    "!python -m spacy download en_core_web_trf"
   ]
  },
  {
   "cell_type": "code",
   "execution_count": 24,
   "id": "b5a97b39",
   "metadata": {},
   "outputs": [
    {
     "name": "stdout",
     "output_type": "stream",
     "text": [
      "Requirement already satisfied: spacy-transformers in /Users/punamtanvikshatriya/opt/anaconda3/lib/python3.9/site-packages (1.1.4)\n",
      "Requirement already satisfied: torch>=1.6.0 in /Users/punamtanvikshatriya/opt/anaconda3/lib/python3.9/site-packages (from spacy-transformers) (1.10.2)\n",
      "Requirement already satisfied: srsly<3.0.0,>=2.4.0 in /Users/punamtanvikshatriya/opt/anaconda3/lib/python3.9/site-packages (from spacy-transformers) (2.4.2)\n",
      "Requirement already satisfied: transformers<4.16.0,>=3.4.0 in /Users/punamtanvikshatriya/opt/anaconda3/lib/python3.9/site-packages (from spacy-transformers) (4.15.0)\n",
      "Requirement already satisfied: spacy<4.0.0,>=3.1.3 in /Users/punamtanvikshatriya/opt/anaconda3/lib/python3.9/site-packages (from spacy-transformers) (3.2.2)\n",
      "Requirement already satisfied: spacy-alignments<1.0.0,>=0.7.2 in /Users/punamtanvikshatriya/opt/anaconda3/lib/python3.9/site-packages (from spacy-transformers) (0.8.4)\n",
      "Requirement already satisfied: preshed<3.1.0,>=3.0.2 in /Users/punamtanvikshatriya/opt/anaconda3/lib/python3.9/site-packages (from spacy<4.0.0,>=3.1.3->spacy-transformers) (3.0.6)\n",
      "Requirement already satisfied: cymem<2.1.0,>=2.0.2 in /Users/punamtanvikshatriya/opt/anaconda3/lib/python3.9/site-packages (from spacy<4.0.0,>=3.1.3->spacy-transformers) (2.0.6)\n",
      "Requirement already satisfied: tqdm<5.0.0,>=4.38.0 in /Users/punamtanvikshatriya/opt/anaconda3/lib/python3.9/site-packages (from spacy<4.0.0,>=3.1.3->spacy-transformers) (4.62.3)\n",
      "Requirement already satisfied: blis<0.8.0,>=0.4.0 in /Users/punamtanvikshatriya/opt/anaconda3/lib/python3.9/site-packages (from spacy<4.0.0,>=3.1.3->spacy-transformers) (0.7.5)\n",
      "Requirement already satisfied: wasabi<1.1.0,>=0.8.1 in /Users/punamtanvikshatriya/opt/anaconda3/lib/python3.9/site-packages (from spacy<4.0.0,>=3.1.3->spacy-transformers) (0.9.0)\n",
      "Requirement already satisfied: thinc<8.1.0,>=8.0.12 in /Users/punamtanvikshatriya/opt/anaconda3/lib/python3.9/site-packages (from spacy<4.0.0,>=3.1.3->spacy-transformers) (8.0.13)\n",
      "Requirement already satisfied: numpy>=1.15.0 in /Users/punamtanvikshatriya/opt/anaconda3/lib/python3.9/site-packages (from spacy<4.0.0,>=3.1.3->spacy-transformers) (1.20.3)\n",
      "Requirement already satisfied: langcodes<4.0.0,>=3.2.0 in /Users/punamtanvikshatriya/opt/anaconda3/lib/python3.9/site-packages (from spacy<4.0.0,>=3.1.3->spacy-transformers) (3.3.0)\n",
      "Requirement already satisfied: jinja2 in /Users/punamtanvikshatriya/opt/anaconda3/lib/python3.9/site-packages (from spacy<4.0.0,>=3.1.3->spacy-transformers) (2.11.3)\n",
      "Requirement already satisfied: requests<3.0.0,>=2.13.0 in /Users/punamtanvikshatriya/opt/anaconda3/lib/python3.9/site-packages (from spacy<4.0.0,>=3.1.3->spacy-transformers) (2.26.0)\n",
      "Requirement already satisfied: spacy-loggers<2.0.0,>=1.0.0 in /Users/punamtanvikshatriya/opt/anaconda3/lib/python3.9/site-packages (from spacy<4.0.0,>=3.1.3->spacy-transformers) (1.0.1)\n",
      "Requirement already satisfied: typer<0.5.0,>=0.3.0 in /Users/punamtanvikshatriya/opt/anaconda3/lib/python3.9/site-packages (from spacy<4.0.0,>=3.1.3->spacy-transformers) (0.4.0)\n",
      "Requirement already satisfied: setuptools in /Users/punamtanvikshatriya/opt/anaconda3/lib/python3.9/site-packages (from spacy<4.0.0,>=3.1.3->spacy-transformers) (60.9.0)\n",
      "Requirement already satisfied: murmurhash<1.1.0,>=0.28.0 in /Users/punamtanvikshatriya/opt/anaconda3/lib/python3.9/site-packages (from spacy<4.0.0,>=3.1.3->spacy-transformers) (1.0.6)\n",
      "Requirement already satisfied: catalogue<2.1.0,>=2.0.6 in /Users/punamtanvikshatriya/opt/anaconda3/lib/python3.9/site-packages (from spacy<4.0.0,>=3.1.3->spacy-transformers) (2.0.6)\n",
      "Requirement already satisfied: spacy-legacy<3.1.0,>=3.0.8 in /Users/punamtanvikshatriya/opt/anaconda3/lib/python3.9/site-packages (from spacy<4.0.0,>=3.1.3->spacy-transformers) (3.0.8)\n",
      "Requirement already satisfied: pathy>=0.3.5 in /Users/punamtanvikshatriya/opt/anaconda3/lib/python3.9/site-packages (from spacy<4.0.0,>=3.1.3->spacy-transformers) (0.6.1)\n",
      "Requirement already satisfied: packaging>=20.0 in /Users/punamtanvikshatriya/opt/anaconda3/lib/python3.9/site-packages (from spacy<4.0.0,>=3.1.3->spacy-transformers) (21.0)\n",
      "Requirement already satisfied: pydantic!=1.8,!=1.8.1,<1.9.0,>=1.7.4 in /Users/punamtanvikshatriya/opt/anaconda3/lib/python3.9/site-packages (from spacy<4.0.0,>=3.1.3->spacy-transformers) (1.8.2)\n",
      "Requirement already satisfied: typing-extensions in /Users/punamtanvikshatriya/opt/anaconda3/lib/python3.9/site-packages (from torch>=1.6.0->spacy-transformers) (3.10.0.2)\n",
      "Requirement already satisfied: tokenizers<0.11,>=0.10.1 in /Users/punamtanvikshatriya/opt/anaconda3/lib/python3.9/site-packages (from transformers<4.16.0,>=3.4.0->spacy-transformers) (0.10.3)\n",
      "Requirement already satisfied: huggingface-hub<1.0,>=0.1.0 in /Users/punamtanvikshatriya/opt/anaconda3/lib/python3.9/site-packages (from transformers<4.16.0,>=3.4.0->spacy-transformers) (0.4.0)\n",
      "Requirement already satisfied: sacremoses in /Users/punamtanvikshatriya/opt/anaconda3/lib/python3.9/site-packages (from transformers<4.16.0,>=3.4.0->spacy-transformers) (0.0.47)\n",
      "Requirement already satisfied: filelock in /Users/punamtanvikshatriya/opt/anaconda3/lib/python3.9/site-packages (from transformers<4.16.0,>=3.4.0->spacy-transformers) (3.3.1)\n",
      "Requirement already satisfied: regex!=2019.12.17 in /Users/punamtanvikshatriya/opt/anaconda3/lib/python3.9/site-packages (from transformers<4.16.0,>=3.4.0->spacy-transformers) (2021.8.3)\n",
      "Requirement already satisfied: pyyaml>=5.1 in /Users/punamtanvikshatriya/opt/anaconda3/lib/python3.9/site-packages (from transformers<4.16.0,>=3.4.0->spacy-transformers) (6.0)\n",
      "Requirement already satisfied: pyparsing>=2.0.2 in /Users/punamtanvikshatriya/opt/anaconda3/lib/python3.9/site-packages (from packaging>=20.0->spacy<4.0.0,>=3.1.3->spacy-transformers) (3.0.4)\n",
      "Requirement already satisfied: smart-open<6.0.0,>=5.0.0 in /Users/punamtanvikshatriya/opt/anaconda3/lib/python3.9/site-packages (from pathy>=0.3.5->spacy<4.0.0,>=3.1.3->spacy-transformers) (5.2.1)\n",
      "Requirement already satisfied: urllib3<1.27,>=1.21.1 in /Users/punamtanvikshatriya/opt/anaconda3/lib/python3.9/site-packages (from requests<3.0.0,>=2.13.0->spacy<4.0.0,>=3.1.3->spacy-transformers) (1.26.7)\n",
      "Requirement already satisfied: charset-normalizer~=2.0.0 in /Users/punamtanvikshatriya/opt/anaconda3/lib/python3.9/site-packages (from requests<3.0.0,>=2.13.0->spacy<4.0.0,>=3.1.3->spacy-transformers) (2.0.4)\n",
      "Requirement already satisfied: certifi>=2017.4.17 in /Users/punamtanvikshatriya/opt/anaconda3/lib/python3.9/site-packages (from requests<3.0.0,>=2.13.0->spacy<4.0.0,>=3.1.3->spacy-transformers) (2021.10.8)\n",
      "Requirement already satisfied: idna<4,>=2.5 in /Users/punamtanvikshatriya/opt/anaconda3/lib/python3.9/site-packages (from requests<3.0.0,>=2.13.0->spacy<4.0.0,>=3.1.3->spacy-transformers) (3.2)\n",
      "Requirement already satisfied: click<9.0.0,>=7.1.1 in /Users/punamtanvikshatriya/opt/anaconda3/lib/python3.9/site-packages (from typer<0.5.0,>=0.3.0->spacy<4.0.0,>=3.1.3->spacy-transformers) (8.0.3)\n",
      "Requirement already satisfied: MarkupSafe>=0.23 in /Users/punamtanvikshatriya/opt/anaconda3/lib/python3.9/site-packages (from jinja2->spacy<4.0.0,>=3.1.3->spacy-transformers) (1.1.1)\n",
      "Requirement already satisfied: joblib in /Users/punamtanvikshatriya/opt/anaconda3/lib/python3.9/site-packages (from sacremoses->transformers<4.16.0,>=3.4.0->spacy-transformers) (1.1.0)\n",
      "Requirement already satisfied: six in /Users/punamtanvikshatriya/opt/anaconda3/lib/python3.9/site-packages (from sacremoses->transformers<4.16.0,>=3.4.0->spacy-transformers) (1.16.0)\n",
      "Note: you may need to restart the kernel to use updated packages.\n"
     ]
    }
   ],
   "source": [
    "pip install spacy-transformers"
   ]
  },
  {
   "cell_type": "markdown",
   "id": "6098c03f",
   "metadata": {},
   "source": [
    "# Extract links using spacy"
   ]
  },
  {
   "cell_type": "code",
   "execution_count": 26,
   "id": "602ca89b",
   "metadata": {},
   "outputs": [],
   "source": [
    "from pdfminer.high_level import extract_text\n",
    "\n",
    "def extract_text_from_pdf(pdf_path):\n",
    "    return extract_text(pdf_path)"
   ]
  },
  {
   "cell_type": "code",
   "execution_count": 29,
   "id": "7ac9de4d",
   "metadata": {},
   "outputs": [
    {
     "ename": "ValueError",
     "evalue": "[E002] Can't find factory for 'transformer' for language English (en). This usually happens when spaCy calls `nlp.create_pipe` with a custom component name that's not registered on the current language class. If you're using a Transformer, make sure to install 'spacy-transformers'. If you're using a custom component, make sure you've added the decorator `@Language.component` (for function components) or `@Language.factory` (for class components).\n\nAvailable factories: attribute_ruler, tok2vec, merge_noun_chunks, merge_entities, merge_subtokens, token_splitter, doc_cleaner, parser, beam_parser, entity_linker, ner, beam_ner, entity_ruler, lemmatizer, tagger, morphologizer, senter, sentencizer, textcat, spancat, textcat_multilabel, en.lemmatizer",
     "output_type": "error",
     "traceback": [
      "\u001b[0;31m---------------------------------------------------------------------------\u001b[0m",
      "\u001b[0;31mValueError\u001b[0m                                Traceback (most recent call last)",
      "\u001b[0;32m/var/folders/tt/1fh05z7j11s3t0lg25jrbmnw0000gq/T/ipykernel_16921/3714547675.py\u001b[0m in \u001b[0;36m<module>\u001b[0;34m\u001b[0m\n\u001b[1;32m      1\u001b[0m \u001b[0;32mimport\u001b[0m \u001b[0mspacy\u001b[0m\u001b[0;34m\u001b[0m\u001b[0;34m\u001b[0m\u001b[0m\n\u001b[1;32m      2\u001b[0m \u001b[0;34m\u001b[0m\u001b[0m\n\u001b[0;32m----> 3\u001b[0;31m \u001b[0mnlp\u001b[0m \u001b[0;34m=\u001b[0m \u001b[0mspacy\u001b[0m\u001b[0;34m.\u001b[0m\u001b[0mload\u001b[0m\u001b[0;34m(\u001b[0m\u001b[0;34m\"en_core_web_trf\"\u001b[0m\u001b[0;34m)\u001b[0m\u001b[0;34m\u001b[0m\u001b[0;34m\u001b[0m\u001b[0m\n\u001b[0m\u001b[1;32m      4\u001b[0m \u001b[0mdoc\u001b[0m \u001b[0;34m=\u001b[0m \u001b[0mnlp\u001b[0m\u001b[0;34m(\u001b[0m\u001b[0mextract_text_from_pdf\u001b[0m\u001b[0;34m(\u001b[0m\u001b[0;34m\"BCG_Daniel Schwarz_Consultant.pdf\"\u001b[0m\u001b[0;34m)\u001b[0m\u001b[0;34m)\u001b[0m\u001b[0;34m\u001b[0m\u001b[0;34m\u001b[0m\u001b[0m\n\u001b[1;32m      5\u001b[0m \u001b[0;34m\u001b[0m\u001b[0m\n",
      "\u001b[0;32m~/opt/anaconda3/lib/python3.9/site-packages/spacy/__init__.py\u001b[0m in \u001b[0;36mload\u001b[0;34m(name, vocab, disable, exclude, config)\u001b[0m\n\u001b[1;32m     49\u001b[0m     \u001b[0mRETURNS\u001b[0m \u001b[0;34m(\u001b[0m\u001b[0mLanguage\u001b[0m\u001b[0;34m)\u001b[0m\u001b[0;34m:\u001b[0m \u001b[0mThe\u001b[0m \u001b[0mloaded\u001b[0m \u001b[0mnlp\u001b[0m \u001b[0mobject\u001b[0m\u001b[0;34m.\u001b[0m\u001b[0;34m\u001b[0m\u001b[0;34m\u001b[0m\u001b[0m\n\u001b[1;32m     50\u001b[0m     \"\"\"\n\u001b[0;32m---> 51\u001b[0;31m     return util.load_model(\n\u001b[0m\u001b[1;32m     52\u001b[0m         \u001b[0mname\u001b[0m\u001b[0;34m,\u001b[0m \u001b[0mvocab\u001b[0m\u001b[0;34m=\u001b[0m\u001b[0mvocab\u001b[0m\u001b[0;34m,\u001b[0m \u001b[0mdisable\u001b[0m\u001b[0;34m=\u001b[0m\u001b[0mdisable\u001b[0m\u001b[0;34m,\u001b[0m \u001b[0mexclude\u001b[0m\u001b[0;34m=\u001b[0m\u001b[0mexclude\u001b[0m\u001b[0;34m,\u001b[0m \u001b[0mconfig\u001b[0m\u001b[0;34m=\u001b[0m\u001b[0mconfig\u001b[0m\u001b[0;34m\u001b[0m\u001b[0;34m\u001b[0m\u001b[0m\n\u001b[1;32m     53\u001b[0m     )\n",
      "\u001b[0;32m~/opt/anaconda3/lib/python3.9/site-packages/spacy/util.py\u001b[0m in \u001b[0;36mload_model\u001b[0;34m(name, vocab, disable, exclude, config)\u001b[0m\n\u001b[1;32m    418\u001b[0m             \u001b[0;32mreturn\u001b[0m \u001b[0mget_lang_class\u001b[0m\u001b[0;34m(\u001b[0m\u001b[0mname\u001b[0m\u001b[0;34m.\u001b[0m\u001b[0mreplace\u001b[0m\u001b[0;34m(\u001b[0m\u001b[0;34m\"blank:\"\u001b[0m\u001b[0;34m,\u001b[0m \u001b[0;34m\"\"\u001b[0m\u001b[0;34m)\u001b[0m\u001b[0;34m)\u001b[0m\u001b[0;34m(\u001b[0m\u001b[0;34m)\u001b[0m\u001b[0;34m\u001b[0m\u001b[0;34m\u001b[0m\u001b[0m\n\u001b[1;32m    419\u001b[0m         \u001b[0;32mif\u001b[0m \u001b[0mis_package\u001b[0m\u001b[0;34m(\u001b[0m\u001b[0mname\u001b[0m\u001b[0;34m)\u001b[0m\u001b[0;34m:\u001b[0m  \u001b[0;31m# installed as package\u001b[0m\u001b[0;34m\u001b[0m\u001b[0;34m\u001b[0m\u001b[0m\n\u001b[0;32m--> 420\u001b[0;31m             \u001b[0;32mreturn\u001b[0m \u001b[0mload_model_from_package\u001b[0m\u001b[0;34m(\u001b[0m\u001b[0mname\u001b[0m\u001b[0;34m,\u001b[0m \u001b[0;34m**\u001b[0m\u001b[0mkwargs\u001b[0m\u001b[0;34m)\u001b[0m  \u001b[0;31m# type: ignore[arg-type]\u001b[0m\u001b[0;34m\u001b[0m\u001b[0;34m\u001b[0m\u001b[0m\n\u001b[0m\u001b[1;32m    421\u001b[0m         \u001b[0;32mif\u001b[0m \u001b[0mPath\u001b[0m\u001b[0;34m(\u001b[0m\u001b[0mname\u001b[0m\u001b[0;34m)\u001b[0m\u001b[0;34m.\u001b[0m\u001b[0mexists\u001b[0m\u001b[0;34m(\u001b[0m\u001b[0;34m)\u001b[0m\u001b[0;34m:\u001b[0m  \u001b[0;31m# path to model data directory\u001b[0m\u001b[0;34m\u001b[0m\u001b[0;34m\u001b[0m\u001b[0m\n\u001b[1;32m    422\u001b[0m             \u001b[0;32mreturn\u001b[0m \u001b[0mload_model_from_path\u001b[0m\u001b[0;34m(\u001b[0m\u001b[0mPath\u001b[0m\u001b[0;34m(\u001b[0m\u001b[0mname\u001b[0m\u001b[0;34m)\u001b[0m\u001b[0;34m,\u001b[0m \u001b[0;34m**\u001b[0m\u001b[0mkwargs\u001b[0m\u001b[0;34m)\u001b[0m  \u001b[0;31m# type: ignore[arg-type]\u001b[0m\u001b[0;34m\u001b[0m\u001b[0;34m\u001b[0m\u001b[0m\n",
      "\u001b[0;32m~/opt/anaconda3/lib/python3.9/site-packages/spacy/util.py\u001b[0m in \u001b[0;36mload_model_from_package\u001b[0;34m(name, vocab, disable, exclude, config)\u001b[0m\n\u001b[1;32m    451\u001b[0m     \"\"\"\n\u001b[1;32m    452\u001b[0m     \u001b[0mcls\u001b[0m \u001b[0;34m=\u001b[0m \u001b[0mimportlib\u001b[0m\u001b[0;34m.\u001b[0m\u001b[0mimport_module\u001b[0m\u001b[0;34m(\u001b[0m\u001b[0mname\u001b[0m\u001b[0;34m)\u001b[0m\u001b[0;34m\u001b[0m\u001b[0;34m\u001b[0m\u001b[0m\n\u001b[0;32m--> 453\u001b[0;31m     \u001b[0;32mreturn\u001b[0m \u001b[0mcls\u001b[0m\u001b[0;34m.\u001b[0m\u001b[0mload\u001b[0m\u001b[0;34m(\u001b[0m\u001b[0mvocab\u001b[0m\u001b[0;34m=\u001b[0m\u001b[0mvocab\u001b[0m\u001b[0;34m,\u001b[0m \u001b[0mdisable\u001b[0m\u001b[0;34m=\u001b[0m\u001b[0mdisable\u001b[0m\u001b[0;34m,\u001b[0m \u001b[0mexclude\u001b[0m\u001b[0;34m=\u001b[0m\u001b[0mexclude\u001b[0m\u001b[0;34m,\u001b[0m \u001b[0mconfig\u001b[0m\u001b[0;34m=\u001b[0m\u001b[0mconfig\u001b[0m\u001b[0;34m)\u001b[0m  \u001b[0;31m# type: ignore[attr-defined]\u001b[0m\u001b[0;34m\u001b[0m\u001b[0;34m\u001b[0m\u001b[0m\n\u001b[0m\u001b[1;32m    454\u001b[0m \u001b[0;34m\u001b[0m\u001b[0m\n\u001b[1;32m    455\u001b[0m \u001b[0;34m\u001b[0m\u001b[0m\n",
      "\u001b[0;32m~/opt/anaconda3/lib/python3.9/site-packages/en_core_web_trf/__init__.py\u001b[0m in \u001b[0;36mload\u001b[0;34m(**overrides)\u001b[0m\n\u001b[1;32m      8\u001b[0m \u001b[0;34m\u001b[0m\u001b[0m\n\u001b[1;32m      9\u001b[0m \u001b[0;32mdef\u001b[0m \u001b[0mload\u001b[0m\u001b[0;34m(\u001b[0m\u001b[0;34m**\u001b[0m\u001b[0moverrides\u001b[0m\u001b[0;34m)\u001b[0m\u001b[0;34m:\u001b[0m\u001b[0;34m\u001b[0m\u001b[0;34m\u001b[0m\u001b[0m\n\u001b[0;32m---> 10\u001b[0;31m     \u001b[0;32mreturn\u001b[0m \u001b[0mload_model_from_init_py\u001b[0m\u001b[0;34m(\u001b[0m\u001b[0m__file__\u001b[0m\u001b[0;34m,\u001b[0m \u001b[0;34m**\u001b[0m\u001b[0moverrides\u001b[0m\u001b[0;34m)\u001b[0m\u001b[0;34m\u001b[0m\u001b[0;34m\u001b[0m\u001b[0m\n\u001b[0m",
      "\u001b[0;32m~/opt/anaconda3/lib/python3.9/site-packages/spacy/util.py\u001b[0m in \u001b[0;36mload_model_from_init_py\u001b[0;34m(init_file, vocab, disable, exclude, config)\u001b[0m\n\u001b[1;32m    613\u001b[0m     \u001b[0;32mif\u001b[0m \u001b[0;32mnot\u001b[0m \u001b[0mmodel_path\u001b[0m\u001b[0;34m.\u001b[0m\u001b[0mexists\u001b[0m\u001b[0;34m(\u001b[0m\u001b[0;34m)\u001b[0m\u001b[0;34m:\u001b[0m\u001b[0;34m\u001b[0m\u001b[0;34m\u001b[0m\u001b[0m\n\u001b[1;32m    614\u001b[0m         \u001b[0;32mraise\u001b[0m \u001b[0mIOError\u001b[0m\u001b[0;34m(\u001b[0m\u001b[0mErrors\u001b[0m\u001b[0;34m.\u001b[0m\u001b[0mE052\u001b[0m\u001b[0;34m.\u001b[0m\u001b[0mformat\u001b[0m\u001b[0;34m(\u001b[0m\u001b[0mpath\u001b[0m\u001b[0;34m=\u001b[0m\u001b[0mdata_path\u001b[0m\u001b[0;34m)\u001b[0m\u001b[0;34m)\u001b[0m\u001b[0;34m\u001b[0m\u001b[0;34m\u001b[0m\u001b[0m\n\u001b[0;32m--> 615\u001b[0;31m     return load_model_from_path(\n\u001b[0m\u001b[1;32m    616\u001b[0m         \u001b[0mdata_path\u001b[0m\u001b[0;34m,\u001b[0m\u001b[0;34m\u001b[0m\u001b[0;34m\u001b[0m\u001b[0m\n\u001b[1;32m    617\u001b[0m         \u001b[0mvocab\u001b[0m\u001b[0;34m=\u001b[0m\u001b[0mvocab\u001b[0m\u001b[0;34m,\u001b[0m\u001b[0;34m\u001b[0m\u001b[0;34m\u001b[0m\u001b[0m\n",
      "\u001b[0;32m~/opt/anaconda3/lib/python3.9/site-packages/spacy/util.py\u001b[0m in \u001b[0;36mload_model_from_path\u001b[0;34m(model_path, meta, vocab, disable, exclude, config)\u001b[0m\n\u001b[1;32m    486\u001b[0m     \u001b[0moverrides\u001b[0m \u001b[0;34m=\u001b[0m \u001b[0mdict_to_dot\u001b[0m\u001b[0;34m(\u001b[0m\u001b[0mconfig\u001b[0m\u001b[0;34m)\u001b[0m\u001b[0;34m\u001b[0m\u001b[0;34m\u001b[0m\u001b[0m\n\u001b[1;32m    487\u001b[0m     \u001b[0mconfig\u001b[0m \u001b[0;34m=\u001b[0m \u001b[0mload_config\u001b[0m\u001b[0;34m(\u001b[0m\u001b[0mconfig_path\u001b[0m\u001b[0;34m,\u001b[0m \u001b[0moverrides\u001b[0m\u001b[0;34m=\u001b[0m\u001b[0moverrides\u001b[0m\u001b[0;34m)\u001b[0m\u001b[0;34m\u001b[0m\u001b[0;34m\u001b[0m\u001b[0m\n\u001b[0;32m--> 488\u001b[0;31m     \u001b[0mnlp\u001b[0m \u001b[0;34m=\u001b[0m \u001b[0mload_model_from_config\u001b[0m\u001b[0;34m(\u001b[0m\u001b[0mconfig\u001b[0m\u001b[0;34m,\u001b[0m \u001b[0mvocab\u001b[0m\u001b[0;34m=\u001b[0m\u001b[0mvocab\u001b[0m\u001b[0;34m,\u001b[0m \u001b[0mdisable\u001b[0m\u001b[0;34m=\u001b[0m\u001b[0mdisable\u001b[0m\u001b[0;34m,\u001b[0m \u001b[0mexclude\u001b[0m\u001b[0;34m=\u001b[0m\u001b[0mexclude\u001b[0m\u001b[0;34m)\u001b[0m\u001b[0;34m\u001b[0m\u001b[0;34m\u001b[0m\u001b[0m\n\u001b[0m\u001b[1;32m    489\u001b[0m     \u001b[0;32mreturn\u001b[0m \u001b[0mnlp\u001b[0m\u001b[0;34m.\u001b[0m\u001b[0mfrom_disk\u001b[0m\u001b[0;34m(\u001b[0m\u001b[0mmodel_path\u001b[0m\u001b[0;34m,\u001b[0m \u001b[0mexclude\u001b[0m\u001b[0;34m=\u001b[0m\u001b[0mexclude\u001b[0m\u001b[0;34m,\u001b[0m \u001b[0moverrides\u001b[0m\u001b[0;34m=\u001b[0m\u001b[0moverrides\u001b[0m\u001b[0;34m)\u001b[0m\u001b[0;34m\u001b[0m\u001b[0;34m\u001b[0m\u001b[0m\n\u001b[1;32m    490\u001b[0m \u001b[0;34m\u001b[0m\u001b[0m\n",
      "\u001b[0;32m~/opt/anaconda3/lib/python3.9/site-packages/spacy/util.py\u001b[0m in \u001b[0;36mload_model_from_config\u001b[0;34m(config, vocab, disable, exclude, auto_fill, validate)\u001b[0m\n\u001b[1;32m    523\u001b[0m     \u001b[0;31m# registry, including custom subclasses provided via entry points\u001b[0m\u001b[0;34m\u001b[0m\u001b[0;34m\u001b[0m\u001b[0m\n\u001b[1;32m    524\u001b[0m     \u001b[0mlang_cls\u001b[0m \u001b[0;34m=\u001b[0m \u001b[0mget_lang_class\u001b[0m\u001b[0;34m(\u001b[0m\u001b[0mnlp_config\u001b[0m\u001b[0;34m[\u001b[0m\u001b[0;34m\"lang\"\u001b[0m\u001b[0;34m]\u001b[0m\u001b[0;34m)\u001b[0m\u001b[0;34m\u001b[0m\u001b[0;34m\u001b[0m\u001b[0m\n\u001b[0;32m--> 525\u001b[0;31m     nlp = lang_cls.from_config(\n\u001b[0m\u001b[1;32m    526\u001b[0m         \u001b[0mconfig\u001b[0m\u001b[0;34m,\u001b[0m\u001b[0;34m\u001b[0m\u001b[0;34m\u001b[0m\u001b[0m\n\u001b[1;32m    527\u001b[0m         \u001b[0mvocab\u001b[0m\u001b[0;34m=\u001b[0m\u001b[0mvocab\u001b[0m\u001b[0;34m,\u001b[0m\u001b[0;34m\u001b[0m\u001b[0;34m\u001b[0m\u001b[0m\n",
      "\u001b[0;32m~/opt/anaconda3/lib/python3.9/site-packages/spacy/language.py\u001b[0m in \u001b[0;36mfrom_config\u001b[0;34m(cls, config, vocab, disable, exclude, meta, auto_fill, validate)\u001b[0m\n\u001b[1;32m   1777\u001b[0m                     \u001b[0;32mraise\u001b[0m \u001b[0mValueError\u001b[0m\u001b[0;34m(\u001b[0m\u001b[0merr\u001b[0m\u001b[0;34m)\u001b[0m\u001b[0;34m\u001b[0m\u001b[0;34m\u001b[0m\u001b[0m\n\u001b[1;32m   1778\u001b[0m                 \u001b[0;32mif\u001b[0m \u001b[0;34m\"factory\"\u001b[0m \u001b[0;32min\u001b[0m \u001b[0mpipe_cfg\u001b[0m\u001b[0;34m:\u001b[0m\u001b[0;34m\u001b[0m\u001b[0;34m\u001b[0m\u001b[0m\n\u001b[0;32m-> 1779\u001b[0;31m                     \u001b[0mfactory\u001b[0m \u001b[0;34m=\u001b[0m \u001b[0mpipe_cfg\u001b[0m\u001b[0;34m.\u001b[0m\u001b[0mpop\u001b[0m\u001b[0;34m(\u001b[0m\u001b[0;34m\"factory\"\u001b[0m\u001b[0;34m)\u001b[0m\u001b[0;34m\u001b[0m\u001b[0;34m\u001b[0m\u001b[0m\n\u001b[0m\u001b[1;32m   1780\u001b[0m                     \u001b[0;31m# The pipe name (key in the config) here is the unique name\u001b[0m\u001b[0;34m\u001b[0m\u001b[0;34m\u001b[0m\u001b[0m\n\u001b[1;32m   1781\u001b[0m                     \u001b[0;31m# of the component, not necessarily the factory\u001b[0m\u001b[0;34m\u001b[0m\u001b[0;34m\u001b[0m\u001b[0m\n",
      "\u001b[0;32m~/opt/anaconda3/lib/python3.9/site-packages/spacy/language.py\u001b[0m in \u001b[0;36madd_pipe\u001b[0;34m(self, factory_name, name, before, after, first, last, source, config, raw_config, validate)\u001b[0m\n\u001b[1;32m    787\u001b[0m                     \u001b[0mopts\u001b[0m\u001b[0;34m=\u001b[0m\u001b[0;34m\", \"\u001b[0m\u001b[0;34m.\u001b[0m\u001b[0mjoin\u001b[0m\u001b[0;34m(\u001b[0m\u001b[0mself\u001b[0m\u001b[0;34m.\u001b[0m\u001b[0mfactory_names\u001b[0m\u001b[0;34m)\u001b[0m\u001b[0;34m,\u001b[0m\u001b[0;34m\u001b[0m\u001b[0;34m\u001b[0m\u001b[0m\n\u001b[1;32m    788\u001b[0m                     \u001b[0mmethod\u001b[0m\u001b[0;34m=\u001b[0m\u001b[0;34m\"add_pipe\"\u001b[0m\u001b[0;34m,\u001b[0m\u001b[0;34m\u001b[0m\u001b[0;34m\u001b[0m\u001b[0m\n\u001b[0;32m--> 789\u001b[0;31m                     \u001b[0mlang\u001b[0m\u001b[0;34m=\u001b[0m\u001b[0mutil\u001b[0m\u001b[0;34m.\u001b[0m\u001b[0mget_object_name\u001b[0m\u001b[0;34m(\u001b[0m\u001b[0mself\u001b[0m\u001b[0;34m)\u001b[0m\u001b[0;34m,\u001b[0m\u001b[0;34m\u001b[0m\u001b[0;34m\u001b[0m\u001b[0m\n\u001b[0m\u001b[1;32m    790\u001b[0m                     \u001b[0mlang_code\u001b[0m\u001b[0;34m=\u001b[0m\u001b[0mself\u001b[0m\u001b[0;34m.\u001b[0m\u001b[0mlang\u001b[0m\u001b[0;34m,\u001b[0m\u001b[0;34m\u001b[0m\u001b[0;34m\u001b[0m\u001b[0m\n\u001b[1;32m    791\u001b[0m                 )\n",
      "\u001b[0;32m~/opt/anaconda3/lib/python3.9/site-packages/spacy/language.py\u001b[0m in \u001b[0;36mcreate_pipe\u001b[0;34m(self, factory_name, name, config, raw_config, validate)\u001b[0m\n\u001b[1;32m    650\u001b[0m                 \u001b[0mopts\u001b[0m\u001b[0;34m=\u001b[0m\u001b[0;34m\", \"\u001b[0m\u001b[0;34m.\u001b[0m\u001b[0mjoin\u001b[0m\u001b[0;34m(\u001b[0m\u001b[0mself\u001b[0m\u001b[0;34m.\u001b[0m\u001b[0mfactory_names\u001b[0m\u001b[0;34m)\u001b[0m\u001b[0;34m,\u001b[0m\u001b[0;34m\u001b[0m\u001b[0;34m\u001b[0m\u001b[0m\n\u001b[1;32m    651\u001b[0m                 \u001b[0mmethod\u001b[0m\u001b[0;34m=\u001b[0m\u001b[0;34m\"create_pipe\"\u001b[0m\u001b[0;34m,\u001b[0m\u001b[0;34m\u001b[0m\u001b[0;34m\u001b[0m\u001b[0m\n\u001b[0;32m--> 652\u001b[0;31m                 \u001b[0mlang\u001b[0m\u001b[0;34m=\u001b[0m\u001b[0mutil\u001b[0m\u001b[0;34m.\u001b[0m\u001b[0mget_object_name\u001b[0m\u001b[0;34m(\u001b[0m\u001b[0mself\u001b[0m\u001b[0;34m)\u001b[0m\u001b[0;34m,\u001b[0m\u001b[0;34m\u001b[0m\u001b[0;34m\u001b[0m\u001b[0m\n\u001b[0m\u001b[1;32m    653\u001b[0m                 \u001b[0mlang_code\u001b[0m\u001b[0;34m=\u001b[0m\u001b[0mself\u001b[0m\u001b[0;34m.\u001b[0m\u001b[0mlang\u001b[0m\u001b[0;34m,\u001b[0m\u001b[0;34m\u001b[0m\u001b[0;34m\u001b[0m\u001b[0m\n\u001b[1;32m    654\u001b[0m             )\n",
      "\u001b[0;31mValueError\u001b[0m: [E002] Can't find factory for 'transformer' for language English (en). This usually happens when spaCy calls `nlp.create_pipe` with a custom component name that's not registered on the current language class. If you're using a Transformer, make sure to install 'spacy-transformers'. If you're using a custom component, make sure you've added the decorator `@Language.component` (for function components) or `@Language.factory` (for class components).\n\nAvailable factories: attribute_ruler, tok2vec, merge_noun_chunks, merge_entities, merge_subtokens, token_splitter, doc_cleaner, parser, beam_parser, entity_linker, ner, beam_ner, entity_ruler, lemmatizer, tagger, morphologizer, senter, sentencizer, textcat, spancat, textcat_multilabel, en.lemmatizer"
     ]
    }
   ],
   "source": [
    "import spacy\n",
    "\n",
    "nlp = spacy.load(\"en_core_web_trf\")\n",
    "doc = nlp(extract_text_from_pdf(\"BCG_Daniel Schwarz_Consultant.pdf\"))\n",
    "\n",
    "doc_cleaned = [token for token in doc if not token.is_stop and not token.is_punct]"
   ]
  },
  {
   "cell_type": "code",
   "execution_count": null,
   "id": "e8008037",
   "metadata": {},
   "outputs": [],
   "source": [
    "doc"
   ]
  },
  {
   "cell_type": "code",
   "execution_count": null,
   "id": "5e5103f5",
   "metadata": {},
   "outputs": [],
   "source": [
    "print([t for t in doc if t.like_url])"
   ]
  },
  {
   "cell_type": "code",
   "execution_count": null,
   "id": "ae73195d",
   "metadata": {},
   "outputs": [],
   "source": [
    "pip install pikepdf"
   ]
  },
  {
   "cell_type": "code",
   "execution_count": null,
   "id": "51fa5d43",
   "metadata": {},
   "outputs": [],
   "source": [
    "import pikepdf # pip3 install pikepdf\n",
    "\n",
    "file = \"/content/sample_data/Shubham_Modi_CV_Old.pdf\"\n",
    "pdf_file = pikepdf.Pdf.open(file)\n",
    "urls = []\n",
    "# iterate over PDF pages\n",
    "for page in pdf_file.pages:\n",
    "    for annots in page.get(\"/Annots\"):\n",
    "        uri = annots.get(\"/A\").get(\"/URI\")\n",
    "        if uri is not None:\n",
    "            # print(\"URL :\", uri)\n",
    "            print(uri)\n",
    "            urls.append(uri)\n",
    "print(urls)\n",
    "print(\"Total URLs :\", len(urls))"
   ]
  },
  {
   "cell_type": "code",
   "execution_count": null,
   "id": "b34090c6",
   "metadata": {},
   "outputs": [],
   "source": [
    "import pikepdf # pip3 install pikepdf\n",
    "import validators\n",
    "\n",
    "file = \"/content/sample_data/Shubham_Modi_CV_Old.pdf\"\n",
    "pdf_file = pikepdf.Pdf.open(file)\n",
    "urls = []\n",
    "# iterate over PDF pages\n",
    "for page in pdf_file.pages:\n",
    "    for annots in page.get(\"/Annots\"):\n",
    "        uri = annots.get(\"/A\").get(\"/URI\")\n",
    "        if uri is not None:\n",
    "            valid=validators.url(str(uri))\n",
    "            # print(valid)\n",
    "            if valid==True:\n",
    "                # print(\"Url is valid\")\n",
    "                  print(uri)\n",
    "                  urls.append(uri)\n",
    "print(urls)\n",
    "# print(\"Total URLs :\", len(urls))"
   ]
  },
  {
   "cell_type": "code",
   "execution_count": null,
   "id": "8afa436f",
   "metadata": {},
   "outputs": [],
   "source": []
  },
  {
   "cell_type": "markdown",
   "id": "15634427",
   "metadata": {},
   "source": [
    "# Extract links using OCR"
   ]
  },
  {
   "cell_type": "code",
   "execution_count": 14,
   "id": "207b65fb",
   "metadata": {},
   "outputs": [
    {
     "name": "stdout",
     "output_type": "stream",
     "text": [
      "['Daniel Schwarz MBA ACA\\n\\nDate of Birth 31 December 1986\\nNationality British\\n\\nContact details Email: danielmschwarz@hotmail.com\\nUK : +44 7 392 271 514\\nwww.linkedin.com/in/danielschwarz100\\n\\n \\n\\nPROFESSIONAL EXPERIENCE\\n2016 - present The Boston Consulting Group — 2015 MBA Internship converted to Consultant position UK\\n\\nInsurance - subsidiary of a global property & casualty insurer\\n\\ne Financial modelling: built P&L financial model to show long term impacts of multiple\\nstrategic scenarios - final model handed to CFO for ongoing strategy evaluation\\n\\ne Assessed market context, defined client strategy and built target operating model\\n\\nRetail - FTSE 100 UK grocery retailer\\n\\ne Pricing & value proposition strategy: Built pricing model across ~6,000 SKUs\\nincluding competitor analysis and competitive pricing rules in line with price elasticities\\n\\ne Led consumer workshops to highlight price vs value variances across competitors\\n\\nEnergy — FTSE 100 international energy utility company\\n\\ne Target Operating Model (TOM) design: redesigned TOM leading to 20% cost\\nreduction, whilst reducing depth and increasing breadth of organizational structure\\n\\ne Led stakeholders to align highly political organisation and significant FTE reductions\\n\\nInfrastructure & Transportation - world leading city transport authority\\n\\ne Project Management Office: Supported large scale transformation through\\nmanaging PMO office and building out project plans in order to fill £1bn cost gap\\n\\ne Conducted an efficiency and effectiveness review providing focused value generation\\n\\nPharmaceuticals - FTSE 100 global pharmaceuticals & consumer goods company\\n\\ne Net Revenue Management: Created development programme for leading General\\nManagers targeting alignment to global KPIs across net revenue management\\n\\ne Developed proprietary content, case study and training faculty for sustainable delivery\\n\\nConsumer Goods - FTSE 100 global spirits & soft drinks manufacturer\\n\\ne Marketing efficiency: Rolled out marketing productivity programme to drive\\n£2M global benefits across point of sale, 3 space and value added packaging\\n\\ne Built cost and ROI analysis to identify key value drivers and resource wastage\\n\\nFinance — Largest International Central Securities Depository\\n\\ne Digital Transformation: Built in depth work-plan for digital transformation proposal\\nincluding IT Infrastructure, Apps & Architecture, Data, Security and Delivery Model\\n\\ne Reduced project cost by 20% through greater work-plan alignment and outsourcing\\n\\n2013 - 2014 Focus Management Consultancy — Interim General Manager UAE\\nLeading corporate training & HR development consultancy. US$5mn turnover, 20 Employees.\\ne Directed team of 20 across finance, sales and product delivery achieving 30% growth in net profit\\ne Restructured organization, reengineered internal processes and ran vendor DD and negotiations\\ne Facilitated owner exit three months early through hiring company’s first General Manager\\n\\n2010 - 2013 Grant Thornton UK LLP - Financial Restructuring Executive UK\\n5 largest assurance, tax and advisory firm worldwide. 38,500 employees, 120 countries\\ne Produced independent business reviews to US$10mn+ debt holders of distressed enterprises\\ne Orchestrated teams up to 5 people for FTSE and AIM listed clients\\ne Promoted 3 times in 3 years. Obtained ACA qualification\\n\\nEDUCATION\\n\\n2015 INSEAD Business School - MBA Class of December 2015 France / Singapore\\n2010 - 2012 ACA: ICAEW - Institute of Chartered Accountants England and Wales UK\\n2007 - 2009 Durham University - BA Economics UK\\nLANGUAGES English (Native), French (Conversational fluent), Spanish (Basic)\\n\\nOTHER EXPERIENCE\\n\\n2008 Standard Chartered Bank, Internship, Group Corporate Development UK\\n2007 Volunteer teaching in Nepal, led group of students through fundraising & teaching Nepal\\n2005 HSBC Middle East, Internship, Corporate Finance Credit Analyst UAE\\n\\nINTERESTS Golf (9 hdcp) and charity sporting events (incl. white collar boxing, marathons and triathlon)\\n']\n"
     ]
    }
   ],
   "source": [
    "from PIL import Image\n",
    "import pytesseract\n",
    "import sys\n",
    "from pdf2image import convert_from_path\n",
    "import os\n",
    "\n",
    "PDF_file = \"BCG_Daniel Schwarz_Consultant.pdf\"\n",
    "#Store all the pages in pages variable. Here 500 is resolution\n",
    "pages = convert_from_path(PDF_file, 500)\n",
    "image_counter = 1\n",
    "\n",
    "for page in pages:\n",
    "    filename = \"page_\"+str(image_counter)+\".jpg\"\n",
    "    page.save(filename, 'JPEG')\n",
    "    image_counter = image_counter + 1\n",
    "filelimit = image_counter-1\n",
    "\n",
    "outfile = \"out_text.txt\"\n",
    "f = open(outfile, \"a\")\n",
    "finaloutput=[]\n",
    "for i in range(1, filelimit + 1):\n",
    "    filename = \"page_\"+str(i)+\".jpg\"\n",
    "    text = str(((pytesseract.image_to_string(Image.open(filename)))))\n",
    "    text = text.replace('-\\n', '')\n",
    "    finaloutput.append(text)\n",
    "    f.write(text)\n",
    "\n",
    "f.close()\n",
    "print(finaloutput)"
   ]
  },
  {
   "cell_type": "code",
   "execution_count": 15,
   "id": "dc82cbea",
   "metadata": {},
   "outputs": [
    {
     "name": "stdout",
     "output_type": "stream",
     "text": [
      "['www.linkedin.com/in/danielschwarz1i00']\n"
     ]
    }
   ],
   "source": [
    "for i in range(1, filelimit + 1):\n",
    "    filename = \"page_\"+str(i)+\".jpg\"\n",
    "\n",
    "    img=cv2.imread(filename)\n",
    "\n",
    "    gray=cv2.cvtColor(img, cv2.COLOR_BGR2GRAY)\n",
    "\n",
    "    file=\"{}.png\" .format(os.getpid())\n",
    "    cv2.imwrite(file,gray)\n",
    "\n",
    "    text=pytesseract.image_to_string(Image.open(file))\n",
    "    os.remove(file)\n",
    "    # print(text)\n",
    "    urls = re.findall('https?:\\/\\/(?:www\\.|(?!www))[a-zA-Z0-9][a-zA-Z0-9-]+[a-zA-Z0-9]\\.[^\\s]{2,}|www\\.[a-zA-Z0-9][a-zA-Z0-9-]+[a-zA-Z0-9]\\.[^\\s]{2,}|https?:\\/\\/(?:www\\.|(?!www))[a-zA-Z0-9]+\\.[^\\s]{2,}|www\\.[a-zA-Z0-9]+\\.[^\\s]{2,}', text)\n",
    "#     urls = re.findall('http[s]?://(?:[a-zA-Z]|[0-9]|[.]|[!*\\(\\),]|(?:%[0-9a-fA-F][0-9a-fA-F]))+', text)\n",
    "\n",
    "    print(urls)"
   ]
  },
  {
   "cell_type": "code",
   "execution_count": null,
   "id": "53d46072",
   "metadata": {},
   "outputs": [],
   "source": []
  }
 ],
 "metadata": {
  "kernelspec": {
   "display_name": "Python 3 (ipykernel)",
   "language": "python",
   "name": "python3"
  },
  "language_info": {
   "codemirror_mode": {
    "name": "ipython",
    "version": 3
   },
   "file_extension": ".py",
   "mimetype": "text/x-python",
   "name": "python",
   "nbconvert_exporter": "python",
   "pygments_lexer": "ipython3",
   "version": "3.9.7"
  }
 },
 "nbformat": 4,
 "nbformat_minor": 5
}
