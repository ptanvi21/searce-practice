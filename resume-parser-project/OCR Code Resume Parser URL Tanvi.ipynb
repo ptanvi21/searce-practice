{
 "cells": [
  {
   "cell_type": "code",
   "execution_count": 2,
   "id": "1eb56af7",
   "metadata": {},
   "outputs": [
    {
     "name": "stdout",
     "output_type": "stream",
     "text": [
      "Collecting spacy\n",
      "  Downloading spacy-3.2.1-cp39-cp39-macosx_10_9_x86_64.whl (6.3 MB)\n",
      "\u001b[K     |████████████████████████████████| 6.3 MB 4.2 MB/s eta 0:00:01\n",
      "\u001b[?25hCollecting cymem<2.1.0,>=2.0.2\n",
      "  Downloading cymem-2.0.6-cp39-cp39-macosx_10_9_x86_64.whl (32 kB)\n",
      "Collecting catalogue<2.1.0,>=2.0.6\n",
      "  Using cached catalogue-2.0.6-py3-none-any.whl (17 kB)\n",
      "Collecting typer<0.5.0,>=0.3.0\n",
      "  Using cached typer-0.4.0-py3-none-any.whl (27 kB)\n",
      "Collecting murmurhash<1.1.0,>=0.28.0\n",
      "  Downloading murmurhash-1.0.6-cp39-cp39-macosx_10_9_x86_64.whl (18 kB)\n",
      "Requirement already satisfied: tqdm<5.0.0,>=4.38.0 in /Users/punamtanvikshatriya/opt/anaconda3/lib/python3.9/site-packages (from spacy) (4.62.3)\n",
      "Collecting pathy>=0.3.5\n",
      "  Using cached pathy-0.6.1-py3-none-any.whl (42 kB)\n",
      "Requirement already satisfied: numpy>=1.15.0 in /Users/punamtanvikshatriya/opt/anaconda3/lib/python3.9/site-packages (from spacy) (1.20.3)\n",
      "Collecting spacy-legacy<3.1.0,>=3.0.8\n",
      "  Using cached spacy_legacy-3.0.8-py2.py3-none-any.whl (14 kB)\n",
      "Collecting srsly<3.0.0,>=2.4.1\n",
      "  Downloading srsly-2.4.2-cp39-cp39-macosx_10_9_x86_64.whl (452 kB)\n",
      "\u001b[K     |████████████████████████████████| 452 kB 4.2 MB/s eta 0:00:01\n",
      "\u001b[?25hRequirement already satisfied: jinja2 in /Users/punamtanvikshatriya/opt/anaconda3/lib/python3.9/site-packages (from spacy) (2.11.3)\n",
      "Collecting langcodes<4.0.0,>=3.2.0\n",
      "  Using cached langcodes-3.3.0-py3-none-any.whl (181 kB)\n",
      "Collecting wasabi<1.1.0,>=0.8.1\n",
      "  Using cached wasabi-0.9.0-py3-none-any.whl (25 kB)\n",
      "Requirement already satisfied: setuptools in /Users/punamtanvikshatriya/opt/anaconda3/lib/python3.9/site-packages (from spacy) (58.0.4)\n",
      "Collecting thinc<8.1.0,>=8.0.12\n",
      "  Downloading thinc-8.0.13-cp39-cp39-macosx_10_9_x86_64.whl (615 kB)\n",
      "\u001b[K     |████████████████████████████████| 615 kB 279 kB/s eta 0:00:01\n",
      "\u001b[?25hRequirement already satisfied: packaging>=20.0 in /Users/punamtanvikshatriya/opt/anaconda3/lib/python3.9/site-packages (from spacy) (21.0)\n",
      "Collecting spacy-loggers<2.0.0,>=1.0.0\n",
      "  Using cached spacy_loggers-1.0.1-py3-none-any.whl (7.0 kB)\n",
      "Collecting preshed<3.1.0,>=3.0.2\n",
      "  Downloading preshed-3.0.6-cp39-cp39-macosx_10_9_x86_64.whl (106 kB)\n",
      "\u001b[K     |████████████████████████████████| 106 kB 2.3 MB/s eta 0:00:01\n",
      "\u001b[?25hCollecting pydantic!=1.8,!=1.8.1,<1.9.0,>=1.7.4\n",
      "  Downloading pydantic-1.8.2-cp39-cp39-macosx_10_9_x86_64.whl (2.7 MB)\n",
      "\u001b[K     |████████████████████████████████| 2.7 MB 3.0 MB/s eta 0:00:01\n",
      "\u001b[?25hRequirement already satisfied: requests<3.0.0,>=2.13.0 in /Users/punamtanvikshatriya/opt/anaconda3/lib/python3.9/site-packages (from spacy) (2.26.0)\n",
      "Collecting blis<0.8.0,>=0.4.0\n",
      "  Downloading blis-0.7.5-cp39-cp39-macosx_10_9_x86_64.whl (5.8 MB)\n",
      "\u001b[K     |████████████████████████████████| 5.8 MB 3.5 MB/s eta 0:00:01\n",
      "\u001b[?25hRequirement already satisfied: pyparsing>=2.0.2 in /Users/punamtanvikshatriya/opt/anaconda3/lib/python3.9/site-packages (from packaging>=20.0->spacy) (3.0.4)\n",
      "Collecting smart-open<6.0.0,>=5.0.0\n",
      "  Using cached smart_open-5.2.1-py3-none-any.whl (58 kB)\n",
      "Requirement already satisfied: typing-extensions>=3.7.4.3 in /Users/punamtanvikshatriya/opt/anaconda3/lib/python3.9/site-packages (from pydantic!=1.8,!=1.8.1,<1.9.0,>=1.7.4->spacy) (3.10.0.2)\n",
      "Requirement already satisfied: idna<4,>=2.5 in /Users/punamtanvikshatriya/opt/anaconda3/lib/python3.9/site-packages (from requests<3.0.0,>=2.13.0->spacy) (3.2)\n",
      "Requirement already satisfied: certifi>=2017.4.17 in /Users/punamtanvikshatriya/opt/anaconda3/lib/python3.9/site-packages (from requests<3.0.0,>=2.13.0->spacy) (2021.10.8)\n",
      "Requirement already satisfied: urllib3<1.27,>=1.21.1 in /Users/punamtanvikshatriya/opt/anaconda3/lib/python3.9/site-packages (from requests<3.0.0,>=2.13.0->spacy) (1.26.7)\n",
      "Requirement already satisfied: charset-normalizer~=2.0.0 in /Users/punamtanvikshatriya/opt/anaconda3/lib/python3.9/site-packages (from requests<3.0.0,>=2.13.0->spacy) (2.0.4)\n",
      "Requirement already satisfied: click<9.0.0,>=7.1.1 in /Users/punamtanvikshatriya/opt/anaconda3/lib/python3.9/site-packages (from typer<0.5.0,>=0.3.0->spacy) (8.0.3)\n",
      "Requirement already satisfied: MarkupSafe>=0.23 in /Users/punamtanvikshatriya/opt/anaconda3/lib/python3.9/site-packages (from jinja2->spacy) (1.1.1)\n",
      "Installing collected packages: murmurhash, cymem, catalogue, wasabi, typer, srsly, smart-open, pydantic, preshed, blis, thinc, spacy-loggers, spacy-legacy, pathy, langcodes, spacy\n",
      "Successfully installed blis-0.7.5 catalogue-2.0.6 cymem-2.0.6 langcodes-3.3.0 murmurhash-1.0.6 pathy-0.6.1 preshed-3.0.6 pydantic-1.8.2 smart-open-5.2.1 spacy-3.2.1 spacy-legacy-3.0.8 spacy-loggers-1.0.1 srsly-2.4.2 thinc-8.0.13 typer-0.4.0 wasabi-0.9.0\n",
      "Note: you may need to restart the kernel to use updated packages.\n"
     ]
    }
   ],
   "source": [
    "pip install spacy"
   ]
  },
  {
   "cell_type": "code",
   "execution_count": 9,
   "id": "dc3449a4",
   "metadata": {},
   "outputs": [
    {
     "name": "stdout",
     "output_type": "stream",
     "text": [
      "Collecting https://github.com/explosion/spacy-models/releases/download/en_core_web_sm-2.2.0/en_core_web_sm-2.2.0.tar.gz\n",
      "  Downloading https://github.com/explosion/spacy-models/releases/download/en_core_web_sm-2.2.0/en_core_web_sm-2.2.0.tar.gz (12.0 MB)\n",
      "\u001b[K     |████████████████████████████████| 12.0 MB 3.1 MB/s eta 0:00:01\n",
      "\u001b[?25hRequirement already satisfied: spacy>=2.2.0 in /Users/punamtanvikshatriya/opt/anaconda3/lib/python3.9/site-packages (from en-core-web-sm==2.2.0) (3.2.1)\n",
      "Requirement already satisfied: spacy-legacy<3.1.0,>=3.0.8 in /Users/punamtanvikshatriya/opt/anaconda3/lib/python3.9/site-packages (from spacy>=2.2.0->en-core-web-sm==2.2.0) (3.0.8)\n",
      "Requirement already satisfied: murmurhash<1.1.0,>=0.28.0 in /Users/punamtanvikshatriya/opt/anaconda3/lib/python3.9/site-packages (from spacy>=2.2.0->en-core-web-sm==2.2.0) (1.0.6)\n",
      "Requirement already satisfied: wasabi<1.1.0,>=0.8.1 in /Users/punamtanvikshatriya/opt/anaconda3/lib/python3.9/site-packages (from spacy>=2.2.0->en-core-web-sm==2.2.0) (0.9.0)\n",
      "Requirement already satisfied: requests<3.0.0,>=2.13.0 in /Users/punamtanvikshatriya/opt/anaconda3/lib/python3.9/site-packages (from spacy>=2.2.0->en-core-web-sm==2.2.0) (2.26.0)\n",
      "Requirement already satisfied: packaging>=20.0 in /Users/punamtanvikshatriya/opt/anaconda3/lib/python3.9/site-packages (from spacy>=2.2.0->en-core-web-sm==2.2.0) (21.0)\n",
      "Requirement already satisfied: langcodes<4.0.0,>=3.2.0 in /Users/punamtanvikshatriya/opt/anaconda3/lib/python3.9/site-packages (from spacy>=2.2.0->en-core-web-sm==2.2.0) (3.3.0)\n",
      "Requirement already satisfied: numpy>=1.15.0 in /Users/punamtanvikshatriya/opt/anaconda3/lib/python3.9/site-packages (from spacy>=2.2.0->en-core-web-sm==2.2.0) (1.20.3)\n",
      "Requirement already satisfied: srsly<3.0.0,>=2.4.1 in /Users/punamtanvikshatriya/opt/anaconda3/lib/python3.9/site-packages (from spacy>=2.2.0->en-core-web-sm==2.2.0) (2.4.2)\n",
      "Requirement already satisfied: cymem<2.1.0,>=2.0.2 in /Users/punamtanvikshatriya/opt/anaconda3/lib/python3.9/site-packages (from spacy>=2.2.0->en-core-web-sm==2.2.0) (2.0.6)\n",
      "Requirement already satisfied: jinja2 in /Users/punamtanvikshatriya/opt/anaconda3/lib/python3.9/site-packages (from spacy>=2.2.0->en-core-web-sm==2.2.0) (2.11.3)\n",
      "Requirement already satisfied: preshed<3.1.0,>=3.0.2 in /Users/punamtanvikshatriya/opt/anaconda3/lib/python3.9/site-packages (from spacy>=2.2.0->en-core-web-sm==2.2.0) (3.0.6)\n",
      "Requirement already satisfied: pathy>=0.3.5 in /Users/punamtanvikshatriya/opt/anaconda3/lib/python3.9/site-packages (from spacy>=2.2.0->en-core-web-sm==2.2.0) (0.6.1)\n",
      "Requirement already satisfied: setuptools in /Users/punamtanvikshatriya/opt/anaconda3/lib/python3.9/site-packages (from spacy>=2.2.0->en-core-web-sm==2.2.0) (58.0.4)\n",
      "Requirement already satisfied: pydantic!=1.8,!=1.8.1,<1.9.0,>=1.7.4 in /Users/punamtanvikshatriya/opt/anaconda3/lib/python3.9/site-packages (from spacy>=2.2.0->en-core-web-sm==2.2.0) (1.8.2)\n",
      "Requirement already satisfied: thinc<8.1.0,>=8.0.12 in /Users/punamtanvikshatriya/opt/anaconda3/lib/python3.9/site-packages (from spacy>=2.2.0->en-core-web-sm==2.2.0) (8.0.13)\n",
      "Requirement already satisfied: blis<0.8.0,>=0.4.0 in /Users/punamtanvikshatriya/opt/anaconda3/lib/python3.9/site-packages (from spacy>=2.2.0->en-core-web-sm==2.2.0) (0.7.5)\n",
      "Requirement already satisfied: typer<0.5.0,>=0.3.0 in /Users/punamtanvikshatriya/opt/anaconda3/lib/python3.9/site-packages (from spacy>=2.2.0->en-core-web-sm==2.2.0) (0.4.0)\n",
      "Requirement already satisfied: tqdm<5.0.0,>=4.38.0 in /Users/punamtanvikshatriya/opt/anaconda3/lib/python3.9/site-packages (from spacy>=2.2.0->en-core-web-sm==2.2.0) (4.62.3)\n",
      "Requirement already satisfied: spacy-loggers<2.0.0,>=1.0.0 in /Users/punamtanvikshatriya/opt/anaconda3/lib/python3.9/site-packages (from spacy>=2.2.0->en-core-web-sm==2.2.0) (1.0.1)\n",
      "Requirement already satisfied: catalogue<2.1.0,>=2.0.6 in /Users/punamtanvikshatriya/opt/anaconda3/lib/python3.9/site-packages (from spacy>=2.2.0->en-core-web-sm==2.2.0) (2.0.6)\n",
      "Requirement already satisfied: pyparsing>=2.0.2 in /Users/punamtanvikshatriya/opt/anaconda3/lib/python3.9/site-packages (from packaging>=20.0->spacy>=2.2.0->en-core-web-sm==2.2.0) (3.0.4)\n",
      "Requirement already satisfied: smart-open<6.0.0,>=5.0.0 in /Users/punamtanvikshatriya/opt/anaconda3/lib/python3.9/site-packages (from pathy>=0.3.5->spacy>=2.2.0->en-core-web-sm==2.2.0) (5.2.1)\n",
      "Requirement already satisfied: typing-extensions>=3.7.4.3 in /Users/punamtanvikshatriya/opt/anaconda3/lib/python3.9/site-packages (from pydantic!=1.8,!=1.8.1,<1.9.0,>=1.7.4->spacy>=2.2.0->en-core-web-sm==2.2.0) (3.10.0.2)\n",
      "Requirement already satisfied: charset-normalizer~=2.0.0 in /Users/punamtanvikshatriya/opt/anaconda3/lib/python3.9/site-packages (from requests<3.0.0,>=2.13.0->spacy>=2.2.0->en-core-web-sm==2.2.0) (2.0.4)\n",
      "Requirement already satisfied: urllib3<1.27,>=1.21.1 in /Users/punamtanvikshatriya/opt/anaconda3/lib/python3.9/site-packages (from requests<3.0.0,>=2.13.0->spacy>=2.2.0->en-core-web-sm==2.2.0) (1.26.7)\n",
      "Requirement already satisfied: certifi>=2017.4.17 in /Users/punamtanvikshatriya/opt/anaconda3/lib/python3.9/site-packages (from requests<3.0.0,>=2.13.0->spacy>=2.2.0->en-core-web-sm==2.2.0) (2021.10.8)\n",
      "Requirement already satisfied: idna<4,>=2.5 in /Users/punamtanvikshatriya/opt/anaconda3/lib/python3.9/site-packages (from requests<3.0.0,>=2.13.0->spacy>=2.2.0->en-core-web-sm==2.2.0) (3.2)\n",
      "Requirement already satisfied: click<9.0.0,>=7.1.1 in /Users/punamtanvikshatriya/opt/anaconda3/lib/python3.9/site-packages (from typer<0.5.0,>=0.3.0->spacy>=2.2.0->en-core-web-sm==2.2.0) (8.0.3)\n",
      "Requirement already satisfied: MarkupSafe>=0.23 in /Users/punamtanvikshatriya/opt/anaconda3/lib/python3.9/site-packages (from jinja2->spacy>=2.2.0->en-core-web-sm==2.2.0) (1.1.1)\n",
      "Building wheels for collected packages: en-core-web-sm\n",
      "  Building wheel for en-core-web-sm (setup.py) ... \u001b[?25ldone\n",
      "\u001b[?25h  Created wheel for en-core-web-sm: filename=en_core_web_sm-2.2.0-py3-none-any.whl size=12019124 sha256=5ba2206eb248c8e8005244194babd2c2c0cd927b389e031066ea5aa0472c1bea\n",
      "  Stored in directory: /Users/punamtanvikshatriya/Library/Caches/pip/wheels/02/87/47/4d729a97cc46afa46135595b4de32d01461f05947df39166d7\n",
      "Successfully built en-core-web-sm\n",
      "Installing collected packages: en-core-web-sm\n",
      "Successfully installed en-core-web-sm-2.2.0\n",
      "Note: you may need to restart the kernel to use updated packages.\n"
     ]
    }
   ],
   "source": [
    "pip install https://github.com/explosion/spacy-models/releases/download/en_core_web_sm-2.2.0/en_core_web_sm-2.2.0.tar.gz"
   ]
  },
  {
   "cell_type": "code",
   "execution_count": 30,
   "id": "eb506d97",
   "metadata": {},
   "outputs": [
    {
     "name": "stdout",
     "output_type": "stream",
     "text": [
      "Requirement already satisfied: spacy in /Users/punamtanvikshatriya/opt/anaconda3/lib/python3.9/site-packages (3.2.1)\n",
      "Requirement already satisfied: preshed<3.1.0,>=3.0.2 in /Users/punamtanvikshatriya/opt/anaconda3/lib/python3.9/site-packages (from spacy) (3.0.6)\n",
      "Requirement already satisfied: blis<0.8.0,>=0.4.0 in /Users/punamtanvikshatriya/opt/anaconda3/lib/python3.9/site-packages (from spacy) (0.7.5)\n",
      "Requirement already satisfied: srsly<3.0.0,>=2.4.1 in /Users/punamtanvikshatriya/opt/anaconda3/lib/python3.9/site-packages (from spacy) (2.4.2)\n",
      "Requirement already satisfied: langcodes<4.0.0,>=3.2.0 in /Users/punamtanvikshatriya/opt/anaconda3/lib/python3.9/site-packages (from spacy) (3.3.0)\n",
      "Requirement already satisfied: cymem<2.1.0,>=2.0.2 in /Users/punamtanvikshatriya/opt/anaconda3/lib/python3.9/site-packages (from spacy) (2.0.6)\n",
      "Requirement already satisfied: pathy>=0.3.5 in /Users/punamtanvikshatriya/opt/anaconda3/lib/python3.9/site-packages (from spacy) (0.6.1)\n",
      "Requirement already satisfied: setuptools in /Users/punamtanvikshatriya/opt/anaconda3/lib/python3.9/site-packages (from spacy) (58.0.4)\n",
      "Requirement already satisfied: packaging>=20.0 in /Users/punamtanvikshatriya/opt/anaconda3/lib/python3.9/site-packages (from spacy) (21.0)\n",
      "Requirement already satisfied: catalogue<2.1.0,>=2.0.6 in /Users/punamtanvikshatriya/opt/anaconda3/lib/python3.9/site-packages (from spacy) (2.0.6)\n",
      "Requirement already satisfied: wasabi<1.1.0,>=0.8.1 in /Users/punamtanvikshatriya/opt/anaconda3/lib/python3.9/site-packages (from spacy) (0.9.0)\n",
      "Requirement already satisfied: requests<3.0.0,>=2.13.0 in /Users/punamtanvikshatriya/opt/anaconda3/lib/python3.9/site-packages (from spacy) (2.26.0)\n",
      "Requirement already satisfied: spacy-legacy<3.1.0,>=3.0.8 in /Users/punamtanvikshatriya/opt/anaconda3/lib/python3.9/site-packages (from spacy) (3.0.8)\n",
      "Requirement already satisfied: pydantic!=1.8,!=1.8.1,<1.9.0,>=1.7.4 in /Users/punamtanvikshatriya/opt/anaconda3/lib/python3.9/site-packages (from spacy) (1.8.2)\n",
      "Requirement already satisfied: murmurhash<1.1.0,>=0.28.0 in /Users/punamtanvikshatriya/opt/anaconda3/lib/python3.9/site-packages (from spacy) (1.0.6)\n",
      "Requirement already satisfied: typer<0.5.0,>=0.3.0 in /Users/punamtanvikshatriya/opt/anaconda3/lib/python3.9/site-packages (from spacy) (0.4.0)\n",
      "Requirement already satisfied: thinc<8.1.0,>=8.0.12 in /Users/punamtanvikshatriya/opt/anaconda3/lib/python3.9/site-packages (from spacy) (8.0.13)\n",
      "Requirement already satisfied: jinja2 in /Users/punamtanvikshatriya/opt/anaconda3/lib/python3.9/site-packages (from spacy) (2.11.3)\n",
      "Requirement already satisfied: spacy-loggers<2.0.0,>=1.0.0 in /Users/punamtanvikshatriya/opt/anaconda3/lib/python3.9/site-packages (from spacy) (1.0.1)\n",
      "Requirement already satisfied: tqdm<5.0.0,>=4.38.0 in /Users/punamtanvikshatriya/opt/anaconda3/lib/python3.9/site-packages (from spacy) (4.62.3)\n",
      "Requirement already satisfied: numpy>=1.15.0 in /Users/punamtanvikshatriya/opt/anaconda3/lib/python3.9/site-packages (from spacy) (1.20.3)\n",
      "Requirement already satisfied: pyparsing>=2.0.2 in /Users/punamtanvikshatriya/opt/anaconda3/lib/python3.9/site-packages (from packaging>=20.0->spacy) (3.0.4)\n",
      "Requirement already satisfied: smart-open<6.0.0,>=5.0.0 in /Users/punamtanvikshatriya/opt/anaconda3/lib/python3.9/site-packages (from pathy>=0.3.5->spacy) (5.2.1)\n",
      "Requirement already satisfied: typing-extensions>=3.7.4.3 in /Users/punamtanvikshatriya/opt/anaconda3/lib/python3.9/site-packages (from pydantic!=1.8,!=1.8.1,<1.9.0,>=1.7.4->spacy) (3.10.0.2)\n",
      "Requirement already satisfied: urllib3<1.27,>=1.21.1 in /Users/punamtanvikshatriya/opt/anaconda3/lib/python3.9/site-packages (from requests<3.0.0,>=2.13.0->spacy) (1.26.7)\n",
      "Requirement already satisfied: charset-normalizer~=2.0.0 in /Users/punamtanvikshatriya/opt/anaconda3/lib/python3.9/site-packages (from requests<3.0.0,>=2.13.0->spacy) (2.0.4)\n",
      "Requirement already satisfied: certifi>=2017.4.17 in /Users/punamtanvikshatriya/opt/anaconda3/lib/python3.9/site-packages (from requests<3.0.0,>=2.13.0->spacy) (2021.10.8)\n",
      "Requirement already satisfied: idna<4,>=2.5 in /Users/punamtanvikshatriya/opt/anaconda3/lib/python3.9/site-packages (from requests<3.0.0,>=2.13.0->spacy) (3.2)\n",
      "Requirement already satisfied: click<9.0.0,>=7.1.1 in /Users/punamtanvikshatriya/opt/anaconda3/lib/python3.9/site-packages (from typer<0.5.0,>=0.3.0->spacy) (8.0.3)\n",
      "Requirement already satisfied: MarkupSafe>=0.23 in /Users/punamtanvikshatriya/opt/anaconda3/lib/python3.9/site-packages (from jinja2->spacy) (1.1.1)\n",
      "Note: you may need to restart the kernel to use updated packages.\n"
     ]
    }
   ],
   "source": [
    "\n",
    "pip install -U spacy"
   ]
  },
  {
   "cell_type": "code",
   "execution_count": 43,
   "id": "50c140a0",
   "metadata": {},
   "outputs": [
    {
     "name": "stdout",
     "output_type": "stream",
     "text": [
      "Collecting package metadata (current_repodata.json): \\ WARNING conda.models.version:get_matcher(537): Using .* with relational operator is superfluous and deprecated and will be removed in a future version of conda. Your spec was 1.*, but conda is ignoring the .* and treating it as 1\n",
      "done\n",
      "Solving environment: done\n",
      "\n",
      "## Package Plan ##\n",
      "\n",
      "  environment location: /Users/punamtanvikshatriya/opt/anaconda3\n",
      "\n",
      "  added / updated specs:\n",
      "    - spacy-model-en_core_web_sm\n",
      "\n",
      "\n",
      "The following packages will be downloaded:\n",
      "\n",
      "    package                    |            build\n",
      "    ---------------------------|-----------------\n",
      "    conda-4.11.0               |   py39hecd8cb5_0        14.4 MB\n",
      "    spacy-model-en_core_web_sm-3.0.0|     pyh44b312d_0        13.3 MB  conda-forge/label/broken\n",
      "    ------------------------------------------------------------\n",
      "                                           Total:        27.8 MB\n",
      "\n",
      "The following NEW packages will be INSTALLED:\n",
      "\n",
      "  spacy-model-en_co~ conda-forge/label/broken/noarch::spacy-model-en_core_web_sm-3.0.0-pyh44b312d_0\n",
      "\n",
      "The following packages will be UPDATED:\n",
      "\n",
      "  conda                               4.10.3-py39hecd8cb5_0 --> 4.11.0-py39hecd8cb5_0\n",
      "\n",
      "\n",
      "\n",
      "Downloading and Extracting Packages\n",
      "conda-4.11.0         | 14.4 MB   | ##################################### | 100% \n",
      "spacy-model-en_core_ | 13.3 MB   | ##################################### | 100% \n",
      "Preparing transaction: done\n",
      "Verifying transaction: done\n",
      "Executing transaction: done\n",
      "\n",
      "Note: you may need to restart the kernel to use updated packages.\n"
     ]
    }
   ],
   "source": [
    "conda install -c conda-forge/label/broken spacy-model-en_core_web_sm"
   ]
  },
  {
   "cell_type": "code",
   "execution_count": 9,
   "id": "31866dce",
   "metadata": {},
   "outputs": [
    {
     "name": "stdout",
     "output_type": "stream",
     "text": [
      "Defaulting to user installation because normal site-packages is not writeable\n",
      "Collecting https://github.com/explosion/spacy-models/releases/download/en_core_web_sm-2.2.5/en_core_web_sm-2.2.5.tar.gz\n",
      "  Downloading https://github.com/explosion/spacy-models/releases/download/en_core_web_sm-2.2.5/en_core_web_sm-2.2.5.tar.gz (12.0 MB)\n",
      "\u001b[2K     \u001b[90m━━━━━━━━━━━━━━━━━━━━━━━━━━━━━━━━━━━━━━━━\u001b[0m \u001b[32m12.0/12.0 MB\u001b[0m \u001b[31m2.9 MB/s\u001b[0m eta \u001b[36m0:00:00\u001b[0m00:01\u001b[0m00:01\u001b[0m\n",
      "\u001b[?25h  Preparing metadata (setup.py) ... \u001b[?25ldone\n",
      "\u001b[?25hRequirement already satisfied: spacy>=2.2.2 in /Users/punamtanvikshatriya/Library/Python/3.8/lib/python/site-packages (from en-core-web-sm==2.2.5) (3.2.1)\n",
      "Requirement already satisfied: spacy-loggers<2.0.0,>=1.0.0 in /Users/punamtanvikshatriya/Library/Python/3.8/lib/python/site-packages (from spacy>=2.2.2->en-core-web-sm==2.2.5) (1.0.1)\n",
      "Requirement already satisfied: murmurhash<1.1.0,>=0.28.0 in /Users/punamtanvikshatriya/Library/Python/3.8/lib/python/site-packages (from spacy>=2.2.2->en-core-web-sm==2.2.5) (1.0.6)\n",
      "Requirement already satisfied: langcodes<4.0.0,>=3.2.0 in /Users/punamtanvikshatriya/Library/Python/3.8/lib/python/site-packages (from spacy>=2.2.2->en-core-web-sm==2.2.5) (3.3.0)\n",
      "Requirement already satisfied: typer<0.5.0,>=0.3.0 in /Users/punamtanvikshatriya/Library/Python/3.8/lib/python/site-packages (from spacy>=2.2.2->en-core-web-sm==2.2.5) (0.4.0)\n",
      "Requirement already satisfied: numpy>=1.15.0 in /Users/punamtanvikshatriya/Library/Python/3.8/lib/python/site-packages (from spacy>=2.2.2->en-core-web-sm==2.2.5) (1.22.2)\n",
      "Requirement already satisfied: wasabi<1.1.0,>=0.8.1 in /Users/punamtanvikshatriya/Library/Python/3.8/lib/python/site-packages (from spacy>=2.2.2->en-core-web-sm==2.2.5) (0.9.0)\n",
      "Requirement already satisfied: cymem<2.1.0,>=2.0.2 in /Users/punamtanvikshatriya/Library/Python/3.8/lib/python/site-packages (from spacy>=2.2.2->en-core-web-sm==2.2.5) (2.0.6)\n",
      "Requirement already satisfied: pathy>=0.3.5 in /Users/punamtanvikshatriya/Library/Python/3.8/lib/python/site-packages (from spacy>=2.2.2->en-core-web-sm==2.2.5) (0.6.1)\n",
      "Requirement already satisfied: blis<0.8.0,>=0.4.0 in /Users/punamtanvikshatriya/Library/Python/3.8/lib/python/site-packages (from spacy>=2.2.2->en-core-web-sm==2.2.5) (0.7.5)\n",
      "Requirement already satisfied: srsly<3.0.0,>=2.4.1 in /Users/punamtanvikshatriya/Library/Python/3.8/lib/python/site-packages (from spacy>=2.2.2->en-core-web-sm==2.2.5) (2.4.2)\n",
      "Requirement already satisfied: requests<3.0.0,>=2.13.0 in /Users/punamtanvikshatriya/Library/Python/3.8/lib/python/site-packages (from spacy>=2.2.2->en-core-web-sm==2.2.5) (2.27.1)\n",
      "Requirement already satisfied: preshed<3.1.0,>=3.0.2 in /Users/punamtanvikshatriya/Library/Python/3.8/lib/python/site-packages (from spacy>=2.2.2->en-core-web-sm==2.2.5) (3.0.6)\n",
      "Requirement already satisfied: pydantic!=1.8,!=1.8.1,<1.9.0,>=1.7.4 in /Users/punamtanvikshatriya/Library/Python/3.8/lib/python/site-packages (from spacy>=2.2.2->en-core-web-sm==2.2.5) (1.8.2)\n",
      "Requirement already satisfied: spacy-legacy<3.1.0,>=3.0.8 in /Users/punamtanvikshatriya/Library/Python/3.8/lib/python/site-packages (from spacy>=2.2.2->en-core-web-sm==2.2.5) (3.0.8)\n",
      "Requirement already satisfied: thinc<8.1.0,>=8.0.12 in /Users/punamtanvikshatriya/Library/Python/3.8/lib/python/site-packages (from spacy>=2.2.2->en-core-web-sm==2.2.5) (8.0.13)\n",
      "Requirement already satisfied: packaging>=20.0 in /Users/punamtanvikshatriya/Library/Python/3.8/lib/python/site-packages (from spacy>=2.2.2->en-core-web-sm==2.2.5) (21.3)\n",
      "Requirement already satisfied: catalogue<2.1.0,>=2.0.6 in /Users/punamtanvikshatriya/Library/Python/3.8/lib/python/site-packages (from spacy>=2.2.2->en-core-web-sm==2.2.5) (2.0.6)\n",
      "Requirement already satisfied: setuptools in /Library/Developer/CommandLineTools/Library/Frameworks/Python3.framework/Versions/3.8/lib/python3.8/site-packages (from spacy>=2.2.2->en-core-web-sm==2.2.5) (49.2.1)\n",
      "Requirement already satisfied: tqdm<5.0.0,>=4.38.0 in /Users/punamtanvikshatriya/Library/Python/3.8/lib/python/site-packages (from spacy>=2.2.2->en-core-web-sm==2.2.5) (4.62.3)\n",
      "Requirement already satisfied: jinja2 in /Users/punamtanvikshatriya/Library/Python/3.8/lib/python/site-packages (from spacy>=2.2.2->en-core-web-sm==2.2.5) (3.0.3)\n",
      "Requirement already satisfied: pyparsing!=3.0.5,>=2.0.2 in /Users/punamtanvikshatriya/Library/Python/3.8/lib/python/site-packages (from packaging>=20.0->spacy>=2.2.2->en-core-web-sm==2.2.5) (3.0.7)\n",
      "Requirement already satisfied: smart-open<6.0.0,>=5.0.0 in /Users/punamtanvikshatriya/Library/Python/3.8/lib/python/site-packages (from pathy>=0.3.5->spacy>=2.2.2->en-core-web-sm==2.2.5) (5.2.1)\n",
      "Requirement already satisfied: typing-extensions>=3.7.4.3 in /Users/punamtanvikshatriya/Library/Python/3.8/lib/python/site-packages (from pydantic!=1.8,!=1.8.1,<1.9.0,>=1.7.4->spacy>=2.2.2->en-core-web-sm==2.2.5) (4.0.1)\n",
      "Requirement already satisfied: urllib3<1.27,>=1.21.1 in /Users/punamtanvikshatriya/Library/Python/3.8/lib/python/site-packages (from requests<3.0.0,>=2.13.0->spacy>=2.2.2->en-core-web-sm==2.2.5) (1.26.8)\n",
      "Requirement already satisfied: idna<4,>=2.5 in /Users/punamtanvikshatriya/Library/Python/3.8/lib/python/site-packages (from requests<3.0.0,>=2.13.0->spacy>=2.2.2->en-core-web-sm==2.2.5) (3.3)\n",
      "Requirement already satisfied: certifi>=2017.4.17 in /Users/punamtanvikshatriya/Library/Python/3.8/lib/python/site-packages (from requests<3.0.0,>=2.13.0->spacy>=2.2.2->en-core-web-sm==2.2.5) (2021.10.8)\n",
      "Requirement already satisfied: charset-normalizer~=2.0.0 in /Users/punamtanvikshatriya/Library/Python/3.8/lib/python/site-packages (from requests<3.0.0,>=2.13.0->spacy>=2.2.2->en-core-web-sm==2.2.5) (2.0.11)\n",
      "Requirement already satisfied: click<9.0.0,>=7.1.1 in /Users/punamtanvikshatriya/Library/Python/3.8/lib/python/site-packages (from typer<0.5.0,>=0.3.0->spacy>=2.2.2->en-core-web-sm==2.2.5) (8.0.3)\n",
      "Requirement already satisfied: MarkupSafe>=2.0 in /Users/punamtanvikshatriya/Library/Python/3.8/lib/python/site-packages (from jinja2->spacy>=2.2.2->en-core-web-sm==2.2.5) (2.0.1)\n",
      "Building wheels for collected packages: en-core-web-sm\n",
      "  Building wheel for en-core-web-sm (setup.py) ... \u001b[?25ldone\n",
      "\u001b[?25h  Created wheel for en-core-web-sm: filename=en_core_web_sm-2.2.5-py3-none-any.whl size=12011737 sha256=b19abb5bd41062c14509e23b3f39ba23fd287bf37feabf85acce02d3f08f02b1\n",
      "  Stored in directory: /Users/punamtanvikshatriya/Library/Caches/pip/wheels/77/b4/c8/395804b9a2b6864aaff3623d7b709680acc3d04f47c8162ee6\n",
      "Successfully built en-core-web-sm\n",
      "Installing collected packages: en-core-web-sm\n",
      "Successfully installed en-core-web-sm-2.2.5\n",
      "Note: you may need to restart the kernel to use updated packages.\n"
     ]
    }
   ],
   "source": [
    "\n",
    "pip install https://github.com/explosion/spacy-models/releases/download/en_core_web_sm-2.2.5/en_core_web_sm-2.2.5.tar.gz"
   ]
  },
  {
   "cell_type": "code",
   "execution_count": 3,
   "id": "3e4babfd",
   "metadata": {},
   "outputs": [
    {
     "name": "stdout",
     "output_type": "stream",
     "text": [
      "Defaulting to user installation because normal site-packages is not writeable\n",
      "Collecting Pillow\n",
      "  Downloading Pillow-9.0.1-1-cp38-cp38-macosx_11_0_arm64.whl (2.7 MB)\n",
      "\u001b[2K     \u001b[90m━━━━━━━━━━━━━━━━━━━━━━━━━━━━━━━━━━━━━━━━\u001b[0m \u001b[32m2.7/2.7 MB\u001b[0m \u001b[31m4.8 MB/s\u001b[0m eta \u001b[36m0:00:00\u001b[0m00:01\u001b[0m00:01\u001b[0m\n",
      "\u001b[?25hInstalling collected packages: Pillow\n",
      "Successfully installed Pillow-9.0.1\n",
      "Note: you may need to restart the kernel to use updated packages.\n"
     ]
    }
   ],
   "source": [
    "pip install Pillow"
   ]
  },
  {
   "cell_type": "code",
   "execution_count": 4,
   "id": "c4b73eee",
   "metadata": {},
   "outputs": [
    {
     "name": "stdout",
     "output_type": "stream",
     "text": [
      "Defaulting to user installation because normal site-packages is not writeable\n",
      "Collecting image\n",
      "  Downloading image-1.5.33.tar.gz (15 kB)\n",
      "  Preparing metadata (setup.py) ... \u001b[?25ldone\n",
      "\u001b[?25hRequirement already satisfied: pillow in /Users/punamtanvikshatriya/Library/Python/3.8/lib/python/site-packages (from image) (9.0.1)\n",
      "Collecting django\n",
      "  Downloading Django-4.0.2-py3-none-any.whl (8.0 MB)\n",
      "\u001b[2K     \u001b[90m━━━━━━━━━━━━━━━━━━━━━━━━━━━━━━━━━━━━━━━━\u001b[0m \u001b[32m8.0/8.0 MB\u001b[0m \u001b[31m5.2 MB/s\u001b[0m eta \u001b[36m0:00:00\u001b[0m00:01\u001b[0m00:01\u001b[0m\n",
      "\u001b[?25hRequirement already satisfied: six in /Library/Developer/CommandLineTools/Library/Frameworks/Python3.framework/Versions/3.8/lib/python3.8/site-packages (from image) (1.15.0)\n",
      "Collecting backports.zoneinfo\n",
      "  Downloading backports.zoneinfo-0.2.1.tar.gz (74 kB)\n",
      "\u001b[2K     \u001b[90m━━━━━━━━━━━━━━━━━━━━━━━━━━━━━━━━━━━━━━━━\u001b[0m \u001b[32m74.1/74.1 KB\u001b[0m \u001b[31m2.2 MB/s\u001b[0m eta \u001b[36m0:00:00\u001b[0m\n",
      "\u001b[?25h  Installing build dependencies ... \u001b[?25ldone\n",
      "\u001b[?25h  Getting requirements to build wheel ... \u001b[?25ldone\n",
      "\u001b[?25h  Preparing metadata (pyproject.toml) ... \u001b[?25ldone\n",
      "\u001b[?25hCollecting asgiref<4,>=3.4.1\n",
      "  Downloading asgiref-3.5.0-py3-none-any.whl (22 kB)\n",
      "Collecting sqlparse>=0.2.2\n",
      "  Downloading sqlparse-0.4.2-py3-none-any.whl (42 kB)\n",
      "\u001b[2K     \u001b[90m━━━━━━━━━━━━━━━━━━━━━━━━━━━━━━━━━━━━━━━━\u001b[0m \u001b[32m42.3/42.3 KB\u001b[0m \u001b[31m1.4 MB/s\u001b[0m eta \u001b[36m0:00:00\u001b[0m\n",
      "\u001b[?25hBuilding wheels for collected packages: image, backports.zoneinfo\n",
      "  Building wheel for image (setup.py) ... \u001b[?25ldone\n",
      "\u001b[?25h  Created wheel for image: filename=image-1.5.33-py2.py3-none-any.whl size=19482 sha256=1d7eaaf1d7c9cfca432cb80d1ec27b9252219ec88f3cb533c6976b608c31b5be\n",
      "  Stored in directory: /Users/punamtanvikshatriya/Library/Caches/pip/wheels/ac/30/5c/a8b33888bea3507eda7c924a143d34b2390d2ca5b145b327b5\n",
      "  Building wheel for backports.zoneinfo (pyproject.toml) ... \u001b[?25ldone\n",
      "\u001b[?25h  Created wheel for backports.zoneinfo: filename=backports.zoneinfo-0.2.1-cp38-cp38-macosx_10_14_6_arm64.whl size=49395 sha256=bc7b6df5d8ab472ad2287a5f7ecb9037dc369f5817fcb37afc4ef628d1199d26\n",
      "  Stored in directory: /Users/punamtanvikshatriya/Library/Caches/pip/wheels/c7/de/cc/c405827ed64f81b56142f1e0075a970b2731b00d21983d54fb\n",
      "Successfully built image backports.zoneinfo\n",
      "Installing collected packages: sqlparse, backports.zoneinfo, asgiref, django, image\n",
      "\u001b[33m  WARNING: The script sqlformat is installed in '/Users/punamtanvikshatriya/Library/Python/3.8/bin' which is not on PATH.\n",
      "  Consider adding this directory to PATH or, if you prefer to suppress this warning, use --no-warn-script-location.\u001b[0m\u001b[33m\n",
      "\u001b[0m\u001b[33m  WARNING: The script django-admin is installed in '/Users/punamtanvikshatriya/Library/Python/3.8/bin' which is not on PATH.\n",
      "  Consider adding this directory to PATH or, if you prefer to suppress this warning, use --no-warn-script-location.\u001b[0m\u001b[33m\n",
      "\u001b[0mSuccessfully installed asgiref-3.5.0 backports.zoneinfo-0.2.1 django-4.0.2 image-1.5.33 sqlparse-0.4.2\n",
      "Note: you may need to restart the kernel to use updated packages.\n"
     ]
    }
   ],
   "source": [
    "pip install image"
   ]
  },
  {
   "cell_type": "code",
   "execution_count": 5,
   "id": "87f385f1",
   "metadata": {},
   "outputs": [
    {
     "name": "stdout",
     "output_type": "stream",
     "text": [
      "Defaulting to user installation because normal site-packages is not writeable\n",
      "Collecting pytesseract\n",
      "  Downloading pytesseract-0.3.8.tar.gz (14 kB)\n",
      "  Preparing metadata (setup.py) ... \u001b[?25ldone\n",
      "\u001b[?25hRequirement already satisfied: Pillow in /Users/punamtanvikshatriya/Library/Python/3.8/lib/python/site-packages (from pytesseract) (9.0.1)\n",
      "Building wheels for collected packages: pytesseract\n",
      "  Building wheel for pytesseract (setup.py) ... \u001b[?25ldone\n",
      "\u001b[?25h  Created wheel for pytesseract: filename=pytesseract-0.3.8-py2.py3-none-any.whl size=14062 sha256=9b88dced9f94d661723efcc0d2a5003e205fa5ab58a382595ea5fafbc4f37ecd\n",
      "  Stored in directory: /Users/punamtanvikshatriya/Library/Caches/pip/wheels/ed/8a/c6/40c7ec06c2dd3df636832537238128a1471bf9c1b6a3a9bf40\n",
      "Successfully built pytesseract\n",
      "Installing collected packages: pytesseract\n",
      "\u001b[33m  WARNING: The script pytesseract is installed in '/Users/punamtanvikshatriya/Library/Python/3.8/bin' which is not on PATH.\n",
      "  Consider adding this directory to PATH or, if you prefer to suppress this warning, use --no-warn-script-location.\u001b[0m\u001b[33m\n",
      "\u001b[0mSuccessfully installed pytesseract-0.3.8\n",
      "Note: you may need to restart the kernel to use updated packages.\n"
     ]
    }
   ],
   "source": [
    "pip install pytesseract"
   ]
  },
  {
   "cell_type": "code",
   "execution_count": 36,
   "id": "8c79b325",
   "metadata": {},
   "outputs": [
    {
     "name": "stdout",
     "output_type": "stream",
     "text": [
      "Collecting pdf2image\n",
      "  Using cached pdf2image-1.16.0-py3-none-any.whl (10 kB)\n",
      "Requirement already satisfied: pillow in /Users/punamtanvikshatriya/opt/anaconda3/lib/python3.9/site-packages (from pdf2image) (8.4.0)\n",
      "Installing collected packages: pdf2image\n",
      "Successfully installed pdf2image-1.16.0\n",
      "Note: you may need to restart the kernel to use updated packages.\n"
     ]
    }
   ],
   "source": [
    "pip install pdf2image"
   ]
  },
  {
   "cell_type": "code",
   "execution_count": 1,
   "id": "6925484d",
   "metadata": {},
   "outputs": [
    {
     "name": "stderr",
     "output_type": "stream",
     "text": [
      "/Users/punamtanvikshatriya/opt/anaconda3/lib/python3.9/site-packages/spacy/util.py:833: UserWarning: [W095] Model 'en_core_web_sm' (3.0.0) was trained with spaCy v3.0 and may not be 100% compatible with the current version (3.2.1). If you see errors or degraded performance, download a newer compatible model or retrain your custom model with the current spaCy version. For more details and available updates, run: python -m spacy validate\n",
      "  warnings.warn(warn_msg)\n"
     ]
    },
    {
     "name": "stdout",
     "output_type": "stream",
     "text": [
      "Noun phrases: ['Sebastian Thrun', 'self-driving cars', 'Google', 'few people', 'the company', 'him', 'I', 'you', 'very senior CEOs', 'major American car companies', 'my hand', 'I', 'Thrun', 'an interview', 'Recode']\n",
      "Verbs: ['start', 'work', 'drive', 'take', 'tell', 'shake', 'turn', 'be', 'talk', 'say']\n",
      "Sebastian Thrun PERSON\n",
      "2007 DATE\n",
      "American NORP\n",
      "Thrun PERSON\n",
      "Recode PERSON\n",
      "earlier this week DATE\n"
     ]
    }
   ],
   "source": [
    "# pip install -U spacy\n",
    "# python -m spacy download en_core_web_sm\n",
    "import spacy\n",
    "\n",
    "# Load English tokenizer, tagger, parser and NER\n",
    "nlp = spacy.load(\"en_core_web_sm\")\n",
    "\n",
    "# Process whole documents\n",
    "text = (\"When Sebastian Thrun started working on self-driving cars at \"\n",
    "        \"Google in 2007, few people outside of the company took him \"\n",
    "        \"seriously. “I can tell you very senior CEOs of major American \"\n",
    "        \"car companies would shake my hand and turn away because I wasn’t \"\n",
    "        \"worth talking to,” said Thrun, in an interview with Recode earlier \"\n",
    "        \"this week.\")\n",
    "doc = nlp(text)\n",
    "\n",
    "# Analyze syntax\n",
    "print(\"Noun phrases:\", [chunk.text for chunk in doc.noun_chunks])\n",
    "print(\"Verbs:\", [token.lemma_ for token in doc if token.pos_ == \"VERB\"])\n",
    "\n",
    "# Find named entities, phrases and concepts\n",
    "for entity in doc.ents:\n",
    "    print(entity.text, entity.label_)"
   ]
  },
  {
   "cell_type": "code",
   "execution_count": 9,
   "id": "b6257183",
   "metadata": {},
   "outputs": [
    {
     "name": "stdout",
     "output_type": "stream",
     "text": [
      "['10/02/2022, 18:26 202012020_Resume\\n\\nSATIA TWESHA NIXIT\\n\\nAddress:\\n\\n \\n\\nEDUCATION\\n\\nDhirubhai Ambani Institute of Information and Communication Technology\\n\\nEmail: 202012020@daiict.ac.in DOB: June 23,1999\\n\\n9,Shitalnath Flats,Opp. Hiramani Appts, Vasna Dharnidhar Road ,AAhmedabad 380007.\\n\\nDegree University/Institute Year CPl/Aggregate\\nMsc | (IT) Dhirubhai Ambani Institute of Information and Communication Technology 2022 8.4\\n\\nBsc | (CA & IT) K.S. School of Business Management | Gujarat University 2020 8.2\\nHigher Secondary | Class XII A.G. High School and G & D Parikh Higher Secondary School(GSHSEB) 2017 85.5%\\nSecondary | Class X Little Flower High School and Higher Secondary School(GSHSEB) 2015 80.2%\\n\\nSKILLS\\n\\nExpertise Area/Area(s) of Interest Java, MERN Stack\\nProgramming Language(s) C, HTML5 , CSS3 , JavaScript\\nTools and Technologies MySQL , PostgreSQL, JSP Servlet ,Spring MVC\\n\\nPROFESSIONAL EXPERIENCE/INTERNSHIPS\\n\\nPraxware Technologies Praxware Technologies is one of the well known IT Developement, Training\\nProvider. | took training in Java , Spring MVC and built a java based web\\napplication named Easy-PG\\n\\nGuide: Mr.Bijesh Sheth\\n\\nDhirubhai Ambani Summer Internship | MERN Stack\\n\\nInstitute of Information Guide: Prof. Lavneet Singh\\nand Communication\\n\\nTechnology\\n\\nPROJECTS\\n\\nEasy-PG The project \"Easy-PG’ is a java based web application project. The\\n\\nproject dealt with lending house properties on rent and search for a\\n\\nproperty to stay as tenant. Home Rental System that provides temporary\\n\\nhome to PGs and landlords can also post their properties. We used Spring\\n\\nMVC and MySQL\\n\\nBuyMe.com The project ‘BuyMe.com’ is an e-commerce website , a clothing store\\nmade using MERN Stack.\\n\\nGuide:\\nMrs. Nidhi Sutaria\\n\\nGuide:\\nMrs. Shruti Bhilare\\n\\nhttps://daiict-placement-cell.github.io/ResumeMaker/resume_daiict_regular.html\\n\\nJune 2019 - May 2020\\n\\nTeam Size - 3\\n\\nMay 2021 - July 2021\\n\\nTeam Size - 1\\n\\nJune 2019- May 2020\\n\\nTeam Size - 3\\n\\nApril 2021-May 2021\\n\\nTeam Size - 6\\n\\n1/2\\n', '10/02/2022, 18:26 202012020_Resume\\n\\nWeather App The project \"Weather App’ is a mini weather forecast app made using June 2021\\nreact.js using Open weather API with dynamic background change based\\n\\nGuide:\\non the temperature\\n\\nProf. Lavneet Singh\\n\\nTeam Size - 1\\n\\nLogo-Recognition App __ The project \"Logo-Recognition App’ is made using MERN Stack which will July 2021\\ndetect logos of famous brands from your pictures and returns a probability\\nscore based on the likelihood that the detected logo is the logo of a\\nrecognized brand.\\n\\nGuide:\\nProf. Lavneet Singh\\n\\nTeam Size - 1\\n\\nPOSITIONS OF RESPONSIBILITY\\n\\nAWARDS AND ACHIEVEMENTS\\n\\nStood first in xyz competition.\\nYour highest rating in compititive sites.\\n\\nINTERESTS AND HOBBIES\\n\\nhttps://daiict-placement-cell.github.io/ResumeMaker/resume_daiict_regular.html 2/2\\n']\n"
     ]
    }
   ],
   "source": [
    "from PIL import Image\n",
    "import pytesseract\n",
    "import sys\n",
    "from pdf2image import convert_from_path\n",
    "import os\n",
    "\n",
    "PDF_file = \"202012020_Resume.pdf\"\n",
    "# PDF_file = \"Shubham_Modi_CV_Old.pdf\"\n",
    "#Store all the pages in pages variable. Here 500 is resolution\n",
    "pages = convert_from_path(PDF_file, 500)\n",
    "image_counter = 1\n",
    "\n",
    "for page in pages:\n",
    "    filename = \"page_\"+str(image_counter)+\".jpg\"\n",
    "    page.save(filename, 'JPEG')\n",
    "    image_counter = image_counter + 1\n",
    "filelimit = image_counter-1\n",
    "\n",
    "outfile = \"out_text.txt\"\n",
    "f = open(outfile, \"a\")\n",
    "finaloutput=[]\n",
    "for i in range(1, filelimit + 1):\n",
    "    filename = \"page_\"+str(i)+\".jpg\"\n",
    "    text = str(((pytesseract.image_to_string(Image.open(filename)))))\n",
    "    text = text.replace('-\\n', '')\n",
    "    finaloutput.append(text)\n",
    "    f.write(text)\n",
    "\n",
    "f.close()\n",
    "print(finaloutput)"
   ]
  },
  {
   "cell_type": "code",
   "execution_count": 3,
   "id": "c400b6cb",
   "metadata": {},
   "outputs": [
    {
     "name": "stdout",
     "output_type": "stream",
     "text": [
      "Noun phrases: ['linkedin.com/in/punamtanvi-kshatriya', 'CSE\\nVishwakarma Institute', 'Technology', 'Pune\\n2018 - Present CGPA', '(HSC', 'Pune', '94.46%', 'Secondary (SSC', 'De Paul English Medium School', 'Yeola', '2016 Percentage', '95.80%\\nACTIVITIES', 'Marketing and Social Media Head', 'VIT Pune Quizzing\\nSociety', 'Aatmabodh Volunteer', 'Coordinator', 'Social', '\\nWelfare Development', '(SWD', 'Melange Publicity Outreach Team Volunteer', 'Event', 'Planning and Execution Committee', 'EPEC', 'Punamtanvi Kshatriya', 'An enthusiastic student', 'an opportunity', 'innovative technologies', '\\n\\n[] +91-8087569525\\n\\n©', 'github.com/tanvi2100', 'SKILLS', 'Git', 'Visual Studio Code', 'Ko', 'BYere', 'PROJECTS', 'Amazon Clone', 'React Amazon Clone Application', 'Firebase and Stripe Payment\\n- A Complete E-Commerce Shopping Application', 'challenge-3cb2b.web.app/\\n\\n \\n\\nMyDoctor Bot', 'Healthcare chatbot integrated website', 'the disease', 'the basic details', 'the disease', '- Automatic smart attendance system', 'Bandwidth checking', 'Flask-Python', 'Secured perfect score', 'Mathematics', '100/100', '\\nScience (100/100', 'SSC Board Exam', 'Secured 1st position', 'my Junior College', '94.46%', 'Mathematics', 'Science aggregate', 'HSC Board Exam', 'INTERESTS', 'Designing Web Development Quilling', 'Video Editing Reading']\n",
      "Verbs: ['seek', 'work', 'react', 'use', 'integrate', 'diagnose', 'provide', 'make', '_', 'design']\n",
      "B.TECH ORG\n",
      "CSE ORG\n",
      "Vishwakarma Institute of Technology ORG\n",
      "2018 DATE\n",
      "8.8 CARDINAL\n",
      "94.46% PERCENT\n",
      "SSC ORG\n",
      "2016 DATE\n",
      "95.80% PERCENT\n",
      "VIT Pune Quizzing\n",
      "Society ORG\n",
      "2020 - 2021 DATE\n",
      "Aatmabodh Volunteer PERSON\n",
      "Coordinator of Social and\n",
      "Welfare Development ORG\n",
      "SWD ORG\n",
      "2019 - 2020 DATE\n",
      "Execution Committee ORG\n",
      "EPEC ORG\n",
      "2019 DATE\n",
      "Visual Studio Code PERSON\n",
      "Ko PERSON\n",
      "BYere ORG\n",
      "4 CARDINAL\n",
      "Healthcare ORG\n",
      "Bandwidth NORP\n",
      "Mathematics WORK_OF_ART\n",
      "100/100 CARDINAL\n",
      "100/100 CARDINAL\n",
      "SSC Board Exam\n",
      "\n",
      "Secured ORG\n",
      "Junior College ORG\n",
      "94.46% PERCENT\n",
      "Mathematics WORK_OF_ART\n",
      "Science ORG\n",
      "96/100 CARDINAL\n",
      "HSC Board Exam\n",
      "\n",
      " ORG\n",
      "Designing Web Development Quilling\n",
      "\n",
      "Video Editing Reading |\n",
      " WORK_OF_ART\n"
     ]
    }
   ],
   "source": [
    "for i in finaloutput:\n",
    "    doc = nlp(i)\n",
    "\n",
    "    # Analyze syntax\n",
    "    print(\"Noun phrases:\", [chunk.text for chunk in doc.noun_chunks])\n",
    "    print(\"Verbs:\", [token.lemma_ for token in doc if token.pos_ == \"VERB\"])\n",
    "\n",
    "    # Find named entities, phrases and concepts\n",
    "    for entity in doc.ents:\n",
    "        print(entity.text, entity.label_)"
   ]
  },
  {
   "cell_type": "code",
   "execution_count": 22,
   "id": "f3907390",
   "metadata": {},
   "outputs": [
    {
     "name": "stdout",
     "output_type": "stream",
     "text": [
      "Requirement already satisfied: Pillow in /Users/punamtanvikshatriya/opt/anaconda3/lib/python3.9/site-packages (8.4.0)\n",
      "Note: you may need to restart the kernel to use updated packages.\n"
     ]
    }
   ],
   "source": [
    "pip install Pillow"
   ]
  },
  {
   "cell_type": "code",
   "execution_count": 23,
   "id": "f0aac46e",
   "metadata": {},
   "outputs": [
    {
     "name": "stdout",
     "output_type": "stream",
     "text": [
      "Collecting pytesseract\n",
      "  Using cached pytesseract-0.3.8.tar.gz (14 kB)\n",
      "Requirement already satisfied: Pillow in /Users/punamtanvikshatriya/opt/anaconda3/lib/python3.9/site-packages (from pytesseract) (8.4.0)\n",
      "Building wheels for collected packages: pytesseract\n",
      "  Building wheel for pytesseract (setup.py) ... \u001b[?25ldone\n",
      "\u001b[?25h  Created wheel for pytesseract: filename=pytesseract-0.3.8-py2.py3-none-any.whl size=14072 sha256=b1f4514a8fa14e55c89ce0b3ceb5cb4e82981cd3095ac605f9671e56e9e09d42\n",
      "  Stored in directory: /Users/punamtanvikshatriya/Library/Caches/pip/wheels/3f/38/cf/de35347eec541f89e62bb0011764c38cbd4a82c0d532168abb\n",
      "Successfully built pytesseract\n",
      "Installing collected packages: pytesseract\n",
      "Successfully installed pytesseract-0.3.8\n",
      "Note: you may need to restart the kernel to use updated packages.\n"
     ]
    }
   ],
   "source": [
    "pip install pytesseract"
   ]
  },
  {
   "cell_type": "code",
   "execution_count": 25,
   "id": "479f0c18",
   "metadata": {},
   "outputs": [
    {
     "name": "stdout",
     "output_type": "stream",
     "text": [
      "Collecting opencv-python\n",
      "  Downloading opencv_python-4.5.5.62-cp36-abi3-macosx_10_15_x86_64.whl (46.0 MB)\n",
      "\u001b[K     |████████████████████████████████| 46.0 MB 5.1 MB/s eta 0:00:01\n",
      "\u001b[?25hRequirement already satisfied: numpy>=1.19.3 in /Users/punamtanvikshatriya/opt/anaconda3/lib/python3.9/site-packages (from opencv-python) (1.20.3)\n",
      "Installing collected packages: opencv-python\n",
      "Successfully installed opencv-python-4.5.5.62\n",
      "Note: you may need to restart the kernel to use updated packages.\n"
     ]
    }
   ],
   "source": [
    "pip install opencv-python"
   ]
  },
  {
   "cell_type": "markdown",
   "id": "6a58cc03",
   "metadata": {},
   "source": [
    "# links from image"
   ]
  },
  {
   "cell_type": "code",
   "execution_count": 3,
   "id": "f0b660d7",
   "metadata": {},
   "outputs": [
    {
     "name": "stdout",
     "output_type": "stream",
     "text": [
      "https://mlhackerblog.wordpress.com\n"
     ]
    }
   ],
   "source": [
    "from PIL import Image\n",
    "import pytesseract\n",
    "import cv2\n",
    "import re\n",
    "import os\n",
    "import webbrowser\n",
    "\n",
    "img=cv2.imread(\"Testing.png\")\n",
    "\n",
    "gray=cv2.cvtColor(img, cv2.COLOR_BGR2GRAY)\n",
    "\n",
    "file=\"{}.png\" .format(os.getpid())\n",
    "cv2.imwrite(file,gray)\n",
    "\n",
    "text=pytesseract.image_to_string(Image.open(file))\n",
    "os.remove(file)\n",
    "\n",
    "# print(text)\n",
    "\n",
    "\n",
    "urls = re.findall('http[s]?://(?:[a-zA-Z]|[0-9]|[.]|[!*\\(\\),]|(?:%[0-9a-fA-F][0-9a-fA-F]))+', text)\n",
    "\n",
    "print(urls[0])\n",
    "\n",
    "# webbrowser.open(urls[0])"
   ]
  },
  {
   "cell_type": "code",
   "execution_count": 5,
   "id": "207b65fb",
   "metadata": {},
   "outputs": [
    {
     "name": "stdout",
     "output_type": "stream",
     "text": [
      "['Kumar Rajwani\\n\\nMachine Learning Engineer\\n\\nA machine learning engineer passionate about cutting-edge technology and solving real-world problems, with previous experience in\\ncomputer vision and nlp, leading a learn team and developing new products.\\n\\n8% «kumarrajwani1811@gmail.com\\n« kbrajwani.github.io/\\n\\n© github.com/kbrajwani\\n\\nWORK EXPERIENCE\\n\\nPython developer\\nhttps://solusofttech.com/\\n07/2019 - Present\\n\\nResponsibility\\n\\n- My responsibility here is to create ML/DL model, optimize it\\n\\nand give end-point API which can further use in web or app\\nplatform.\\n\\nAhmedabad\\n\\nDigital Content Writer - Analytics Vidhya\\nmedium.com/@kbrajwani\\n\\n02/2020 - Present\\n\\n| am writing programming blogs on latest topic coming in machine\\nlearning field.\\n\\nPROJECTS\\nSmart Home (07/2018 - 12/2019)\\n\\n- This is useful to access appliances by voice. it have Feature Face\\nunlock and voice unlock for door security.\\n\\nChatbot (07/2018 - 12/2018)\\n\\n— This chatbot is built to talk on phone calls when user is busy.\\n\\nText Summarize (01/2019 - 01/2019)\\nPdf mining (02/2019 - 02/2019)\\n\\n—- Exploring library to get specific information From pdf.\\n\\nImage classification (03/2019 - 04/2019)\\n\\n—- Exploring custom dataset For classification with transfer learning.\\nLogo detection (05/2019 - 05/2019)\\nDamage detection (06/2019 - 09/2019)\\n\\n- Whereiam scraping dataset from google and making annotation.\\nThen train mask rcnn for detect damage.\\n\\nChatbot (09/2019 - 03/2020)\\n\\n— Order taking assistant in restaurant with voice enable.\\n\\nFace recognize and spoof detection (09/2019 - 11/2019)\\n\\n— Project done using facenet technique to build Face recognize\\nsystem. Spoof detection done by custom cnn architecture.\\n\\nSpeaker identification (11/2019 - 12/2019)\\n- This project uses my classmate voice data and trying to identify the\\nperson by their voice.\\n\\nVideo classification (01/2020 - 06/2020)\\n\\n— Creating model for action recognition For ucf101 dataset.\\nBERT Fine-Tuning on Text classification\\n\\nBERT Fine-Tuning on Quora Question Pairs\\nHandwritten Text Recognition (Awslabs)\\n\\nTesseract OCR with Python\\n\\n(] 8141873476\\nin linkedin.com/in/kumar-rajwani-6b79a7128\\n\\nw@ = medium.com/@kbrajwani\\n\\nSKILLS\\n\\na &23 3 3\\n\\nACHIEVEMENTS\\nDigital badge for Microsoft Week of Al (05/2019)\\n\\nCloud Hero Warm Up: Artificial Intelligence and\\nMachine Learning (09/2019)\\n\\nhttps://run.qwiklabs.com/public_profiles/4d8ce 15 1-f654-4ddd-b77a6e27c28b9a03\\n\\nAdvanced ML: ML Infrastructure (09/2019)\\n\\nhttps://run.qwiklabs.com/public_profiles/4d8ce 15 1-f654-4ddd-b77a6e27c28b9a03\\n\\nVirtual Labs - MHRD govt of India (IIT Bombay) (India) NLP Lab\\n\\nhttp://vlabs.iitb.ac.in/vlabsdev/vlab_bootcamp/bootcamp/The_Big_Bang_Nerds/index.html\\n\\nEDUCATION\\nRollwala Computer Center (07/2018 - 07/2020)\\n\\nMsc in Machine learning and artificial intelligence\\n\\nPUBLICATIONS\\n\\nImplementing Home Automation: Beyond Ideas and\\nPossibilities IRJIET, Volume 4, Issue 4, April 2020\\n\\nLANGUAGES\\n\\nHindi English\\nProfessional Working Proficiency Professional Working Proficiency\\n\\nGujarati\\nProfessional Working Proficiency\\n\\nINTERESTS\\n\\nDeep Learning Machine Learning\\n\\nArtificial Intelligence\\n']\n"
     ]
    }
   ],
   "source": [
    "from PIL import Image\n",
    "import pytesseract\n",
    "import sys\n",
    "from pdf2image import convert_from_path\n",
    "import os\n",
    "\n",
    "# PDF_file = \"Punamtanvi Kshatriya.pdf\"\n",
    "# PDF_file = \"Shubham_Modi_CV_Old.pdf\"\n",
    "PDF_file = \"Kumar's Resume.pdf\"\n",
    "#Store all the pages in pages variable. Here 500 is resolution\n",
    "pages = convert_from_path(PDF_file, 500)\n",
    "image_counter = 1\n",
    "\n",
    "for page in pages:\n",
    "    filename = \"page_\"+str(image_counter)+\".jpg\"\n",
    "    page.save(filename, 'JPEG')\n",
    "    image_counter = image_counter + 1\n",
    "filelimit = image_counter-1\n",
    "\n",
    "outfile = \"out_text.txt\"\n",
    "f = open(outfile, \"a\")\n",
    "finaloutput=[]\n",
    "for i in range(1, filelimit + 1):\n",
    "    filename = \"page_\"+str(i)+\".jpg\"\n",
    "    text = str(((pytesseract.image_to_string(Image.open(filename)))))\n",
    "    text = text.replace('-\\n', '')\n",
    "    finaloutput.append(text)\n",
    "    f.write(text)\n",
    "\n",
    "f.close()\n",
    "print(finaloutput)"
   ]
  },
  {
   "cell_type": "code",
   "execution_count": 6,
   "id": "dc82cbea",
   "metadata": {},
   "outputs": [
    {
     "name": "stdout",
     "output_type": "stream",
     "text": [
      "['https://solusofttech.com/', 'https://run.qwiklabs.com/public_profiles/4d8ce', 'https://run.qwiklabs.com/public_profiles/4d8ce', 'http://vlabs.iitb.ac.in/vlabs-']\n"
     ]
    }
   ],
   "source": [
    "for i in range(1, filelimit + 1):\n",
    "    filename = \"page_\"+str(i)+\".jpg\"\n",
    "\n",
    "    img=cv2.imread(filename)\n",
    "\n",
    "    gray=cv2.cvtColor(img, cv2.COLOR_BGR2GRAY)\n",
    "\n",
    "    file=\"{}.png\" .format(os.getpid())\n",
    "    cv2.imwrite(file,gray)\n",
    "\n",
    "    text=pytesseract.image_to_string(Image.open(file))\n",
    "    os.remove(file)\n",
    "    # print(text)\n",
    "    urls = re.findall('https?:\\/\\/(?:www\\.|(?!www))[a-zA-Z0-9][a-zA-Z0-9-]+[a-zA-Z0-9]\\.[^\\s]{2,}|www\\.[a-zA-Z0-9][a-zA-Z0-9-]+[a-zA-Z0-9]\\.[^\\s]{2,}|https?:\\/\\/(?:www\\.|(?!www))[a-zA-Z0-9]+\\.[^\\s]{2,}|www\\.[a-zA-Z0-9]+\\.[^\\s]{2,}', text)\n",
    "#     urls = re.findall('http[s]?://(?:[a-zA-Z]|[0-9]|[.]|[!*\\(\\),]|(?:%[0-9a-fA-F][0-9a-fA-F]))+', text)\n",
    "\n",
    "    print(urls)"
   ]
  },
  {
   "cell_type": "code",
   "execution_count": null,
   "id": "53d46072",
   "metadata": {},
   "outputs": [],
   "source": []
  }
 ],
 "metadata": {
  "kernelspec": {
   "display_name": "Python 3 (ipykernel)",
   "language": "python",
   "name": "python3"
  },
  "language_info": {
   "codemirror_mode": {
    "name": "ipython",
    "version": 3
   },
   "file_extension": ".py",
   "mimetype": "text/x-python",
   "name": "python",
   "nbconvert_exporter": "python",
   "pygments_lexer": "ipython3",
   "version": "3.9.7"
  }
 },
 "nbformat": 4,
 "nbformat_minor": 5
}
